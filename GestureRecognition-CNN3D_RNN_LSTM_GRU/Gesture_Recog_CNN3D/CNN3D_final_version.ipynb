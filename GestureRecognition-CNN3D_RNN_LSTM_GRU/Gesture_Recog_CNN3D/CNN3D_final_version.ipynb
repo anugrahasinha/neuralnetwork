{
 "cells": [
  {
   "cell_type": "markdown",
   "metadata": {
    "_uuid": "c5dce3042216576b306da273c327fb1b0996bcc1",
    "colab_type": "text",
    "id": "BAW47NA4OoX3"
   },
   "source": [
    "# Gesture Recognition (Using Conv3D technique)\n",
    "\n",
    "*Author : Anugraha Sinha*\n",
    "\n",
    "*Email : anugraha[dot]sinha[at]gmail[dot]com*\n",
    "\n",
    "In this case, we will be using a CNN2D + GRU (Gated Recurrent Unit) Neural Network for evaluating geatures in videos. \n",
    "The data provided as following features\n",
    "1. 30 Video frames in each video\n",
    "2. Each frame - 3 Channel (RGB)\n",
    "3. 5 kinds of gestures (Up, Down, Right, Left, Stop)\n",
    "\n",
    "The objective is to be fullfilled for a hypothetical Smart TV company which is trying to incorporate geature recognition in its product where in the gestures mean following things\n",
    "\n",
    "Gesture   |       Left       |    Right    |    Stop      |    Down     |     Up\n",
    "----------| -----------------|-------------|--------------|-------------|-----------\n",
    "Objectives| Previous Channel | Next Channel| Stop Playing | Volume Down | Volume Up\n",
    "Y Value (Integer) | 0 | 1 | 2 | 3 | 4 "
   ]
  },
  {
   "cell_type": "markdown",
   "metadata": {
    "_uuid": "9976d04ccbabdd551630459c34e7f83737353e86",
    "colab_type": "text",
    "id": "BUE2GD52OoX4"
   },
   "source": [
    "##### Library imports #####"
   ]
  },
  {
   "cell_type": "code",
   "execution_count": null,
   "metadata": {
    "ExecuteTime": {
     "end_time": "2018-12-24T10:02:45.291268Z",
     "start_time": "2018-12-24T10:02:16.166997Z"
    },
    "_uuid": "f10fa45394d670436832273227e63a6802aa3b97",
    "colab": {},
    "colab_type": "code",
    "id": "Bml_XJfdOoX5"
   },
   "outputs": [],
   "source": [
    "import numpy as np\n",
    "import os\n",
    "from scipy.misc import imread, imresize\n",
    "import datetime\n",
    "import os\n",
    "import pandas as pd\n",
    "import matplotlib.pyplot as plt"
   ]
  },
  {
   "cell_type": "markdown",
   "metadata": {
    "_uuid": "58ef5e05488d0590cff30e5492d0ef48260240eb",
    "colab_type": "text",
    "id": "dCpE2a3SOoX_"
   },
   "source": [
    "##### We set the random seed so that the results don't vary drastically.#####"
   ]
  },
  {
   "cell_type": "code",
   "execution_count": null,
   "metadata": {
    "ExecuteTime": {
     "end_time": "2018-12-24T10:03:12.325679Z",
     "start_time": "2018-12-24T10:02:45.295206Z"
    },
    "_uuid": "9a5d6b0bc1b6f0f69c9d92b3b14d03b29cc912c1",
    "colab": {},
    "colab_type": "code",
    "id": "2LDTVf4XOoYA",
    "outputId": "a7b7e406-64e2-4461-be5d-3fedd68652ed"
   },
   "outputs": [
    {
     "name": "stderr",
     "output_type": "stream",
     "text": [
      "Using TensorFlow backend.\n"
     ]
    }
   ],
   "source": [
    "np.random.seed(30)\n",
    "import random as rn\n",
    "rn.seed(30)\n",
    "from keras import backend as K\n",
    "import tensorflow as tf\n",
    "tf.set_random_seed(30)"
   ]
  },
  {
   "cell_type": "markdown",
   "metadata": {
    "_uuid": "186bcc4bcf062e2eb41ef6aff011f7e78c3dafbd",
    "colab_type": "text",
    "id": "F0ufz9YDOoYG"
   },
   "source": [
    "##### We set the train_doc and val_doc location #####\n",
    "*Note : Please set this location as per your environment.*"
   ]
  },
  {
   "cell_type": "code",
   "execution_count": null,
   "metadata": {
    "ExecuteTime": {
     "end_time": "2018-12-24T10:03:12.439253Z",
     "start_time": "2018-12-24T10:03:12.328631Z"
    },
    "_uuid": "38a94b46245142b33adcbf5e5b6cedebf10b3343",
    "colab": {},
    "colab_type": "code",
    "id": "O0b3mGDYOoYH"
   },
   "outputs": [],
   "source": [
    "train_doc = np.random.permutation(open('../input/data/Project_data/train.csv').readlines())\n",
    "val_doc = np.random.permutation(open('../input/data/Project_data/val.csv').readlines())"
   ]
  },
  {
   "cell_type": "markdown",
   "metadata": {
    "_uuid": "e626b62451dced61e305ce8ada14ce219f0838cb",
    "colab_type": "text",
    "id": "lWklhutGOoYK"
   },
   "source": [
    "#### Image Processor ####\n",
    "The objective of this function is:\n",
    "Resize the images as per *transform_size* given by user, or take it as (120,120)\n",
    "\n",
    "**Reason**\n",
    "\n",
    "In the training data we have 2 types of video, where video frame sizes are as *(360,360)* and *(160,120)* Therefore to keep things consistent, we build a image processor which perform cropping of the image.\n",
    "\n",
    "**Note**\n",
    "\n",
    "Cropping is done as a centered image, i.e., we take the center as the reference and crop the images from both sides. For (360,360) we can use skimage.transform.resize function. However, for *(160,120)* we will have to some manual processing to crop images by the center."
   ]
  },
  {
   "cell_type": "code",
   "execution_count": null,
   "metadata": {
    "ExecuteTime": {
     "end_time": "2018-12-24T10:03:24.517873Z",
     "start_time": "2018-12-24T10:03:12.444250Z"
    },
    "_uuid": "86d8bd0f1a0ac9340795e7fe0f3da136fa7b2179",
    "colab": {},
    "colab_type": "code",
    "id": "CVuvI0wBOoYL"
   },
   "outputs": [],
   "source": [
    "from skimage.transform import resize\n",
    "def image_processor(orig_image,transform_size=(120,120)):\n",
    "    # If we have an image of (360,360,3) then we use resize function.\n",
    "    # If we have an image of \n",
    "    new_image = orig_image\n",
    "    if orig_image.shape == (360,360,3):\n",
    "        new_image = resize(orig_image,transform_size)\n",
    "    else:\n",
    "        start_row = (orig_image.shape[0] - transform_size[0])//2\n",
    "        end_row = start_row + transform_size[0]\n",
    "        \n",
    "        start_col = (orig_image.shape[1] - transform_size[1])//2\n",
    "        end_col = start_col + transform_size[1]\n",
    "        new_image = orig_image[start_row:end_row,start_col:end_col,:]\n",
    "    #new_image = resize(orig_image,transform_size)\n",
    "    return(new_image)"
   ]
  },
  {
   "cell_type": "markdown",
   "metadata": {
    "_uuid": "9321caffe1256f58b6d1de5b144616dcc1c54d98",
    "colab_type": "text",
    "id": "fJT7tooQOoYQ"
   },
   "source": [
    "#### Sequence Generator ####\n",
    "This function provides a list of frame sequences we would like to use training\n",
    "\n",
    "Arguments\n",
    "\n",
    "a) choiceoflist\n",
    "\n",
    "\n",
    "choicelist | 0 | 1 | 2\n",
    "-----------|---|---|---\n",
    "Return list type | range(0,30,1) | range(0,30,2) | [0,1,2,3,4,5,6,9,12,15,18,21,24,25,26,27,28,29]"
   ]
  },
  {
   "cell_type": "code",
   "execution_count": null,
   "metadata": {
    "_uuid": "80890b27f84019c7e4f69e7f6d325a3de4157fc3",
    "colab": {},
    "colab_type": "code",
    "id": "_OtmFDceOoYQ"
   },
   "outputs": [],
   "source": [
    "def getframeselectionlist(choiceoflist=0):\n",
    "    if choiceoflist==0:\n",
    "        return [frame for frame in range(0,30,1)] # Returns 100% of frames, number of frames=30\n",
    "    elif choiceoflist==1:\n",
    "        return [frame for frame in range(0,30,2)] # returns 50% of frames, number of frames=15\n",
    "    elif choiceoflist==2:\n",
    "        \n",
    "        # For this we are taking first 5 frame+skip frame sequence+last 5 frame of the sequence\n",
    "        \n",
    "        frame_sequence=[]\n",
    "        \n",
    "        startframesequence=[0,1,2,3,4,5]\n",
    "        endframesequence=[25,26,27,28,29]\n",
    "        skip_sequence=3  #\n",
    "        middleframesequnce=[k for k in range(6,25,skip_sequence)]\n",
    "        \n",
    "        frame_sequence.extend(startframesequence)\n",
    "        frame_sequence.extend(middleframesequnce)\n",
    "        frame_sequence.extend(endframesequence)\n",
    "        \n",
    "        return frame_sequence"
   ]
  },
  {
   "cell_type": "markdown",
   "metadata": {
    "_uuid": "a34a0be6eed201b41dbf4ca2ac5747e20da095a9",
    "colab_type": "text",
    "id": "mXNn0v2NOoYV"
   },
   "source": [
    "### Generator ###\n",
    "This is heart of complete training process. It pumps batched data to network during learning and prediction both. The function description is given below\n",
    "\n",
    "**Arguments**\n",
    "\n",
    "1. Source Path - Directory path to be considered for reading video/images frames\n",
    "2. folder_list - Lines from the train_doc we read above.\n",
    "3. batch_size - The batch_size we want to select.\n",
    "4. transform_size - The image transformation size we  (Default - (120,120)\n",
    "5. frame_selection_list - frame_list obtained from frame_generator (Default - range(30))\n",
    "6. process_input_func - To be provided in case CNN2D+RNN type modelling being done\n",
    "7. base_model - To be provided in case CNN2D+RNN type modelling being done.\n",
    "\n",
    "**Working**\n",
    "* Case when CNN3D modelling being done\n",
    "\n",
    "In this case, for each batch (according to batch size), we build \n",
    "\n",
    "1. **batch_data** = *(batch_size, number_of_frames,image_size_x,image_size_y,n_channels)*\n",
    "2. We normalize each channel (RGB) by dividing the pixel value with 255.\n",
    "\n",
    "\n",
    "* Case when CNN2D+RNN modelling being done (RNN can be any of SimpleRNN/LSTM/GRU)\n",
    "\n",
    "In this case, for each batch (according to batch size), we build\n",
    "\n",
    "1. **batch_data** = *(batch_size, number_of_frames,image_size_x,image_size_y,n_channels)*\n",
    "2. reshape batch data as **batch_data.reshape(batch_size * number_of_frames , image_size_x , image_size_y , n_channels)**.\n",
    "3. Above reshaped numpy array is sent to *process_input_func* of the pre-learned CNN2D function. This will produce modified image vector as per pre-learned CNN2D function (like VGG19/VGG16/etc.)\n",
    "4. After *process_input_func* we reshape again to *(batch_size, number_of_frames, outputs from CNN2D vector)*\n",
    "\n",
    "\n",
    "* Final Output\n",
    "\n",
    "The final output of the function has a tuple which has the batch_data (processed) and one-hot-encoded Y variable.\n",
    "One-hot-encoded numpy array will be of size (batch_size, 5) since we have 5 kind of gestures.\n"
   ]
  },
  {
   "cell_type": "code",
   "execution_count": null,
   "metadata": {
    "ExecuteTime": {
     "end_time": "2018-12-24T10:03:24.551099Z",
     "start_time": "2018-12-24T10:03:24.517873Z"
    },
    "_uuid": "aa673970c0bfce98e8f250888079d7ad9612fcbb",
    "colab": {},
    "colab_type": "code",
    "id": "zfnxdzOWOoYV"
   },
   "outputs": [],
   "source": [
    "def generator(source_path,\n",
    "              folder_list,\n",
    "              batch_size,\n",
    "              transform_size = (120,120),\n",
    "              frame_selection_list = range(30),\n",
    "              process_input_func=None,\n",
    "              base_model = None):\n",
    "    print( 'Source path = ', source_path, '; batch size =', batch_size)\n",
    "    img_idx = frame_selection_list\n",
    "    channels = 3\n",
    "    while True:\n",
    "        t = np.random.permutation(folder_list)\n",
    "        num_batches = int(len(t) / batch_size) if len(t) % batch_size == 0 else (len(t) // batch_size)\n",
    "        for batch in range(num_batches): # we iterate over the number of batches\n",
    "            batch_data = np.zeros((batch_size,len(frame_selection_list),transform_size[0],transform_size[1],channels)) # x is the number of images you use for each video, (y,z) is the final size of the input images and 3 is the number of channels RGB\n",
    "            batch_labels = np.zeros((batch_size,5)) # batch_labels is the one hot representation of the output\n",
    "            for folder in range(batch_size): # iterate over the batch_size\n",
    "                imgs = os.listdir(source_path+'/'+ t[folder + (batch*batch_size)].split(';')[0]) # read all the images in the folder\n",
    "                #print(t[folder + (batch*batch_size)].split(';')[0])\n",
    "                for idx,item in enumerate(img_idx): #  Iterate iver the frames/images of a folder to read them in\n",
    "                    image = imread(source_path+'/'+ t[folder + (batch*batch_size)].strip().split(';')[0]+'/'+imgs[item]).astype(np.float64)\n",
    "                    #crop the images and resize them. Note that the images are of 2 different shape \n",
    "                    #and the conv3D will throw error if the inputs in a batch have different shapes\n",
    "                    image = image_processor(image,transform_size)\n",
    "                    if base_model:\n",
    "                        # This is when we are using a pre-learned CNN2D network\n",
    "                        image = process_input_func(image)\n",
    "                        \n",
    "                    else:\n",
    "                        # This is when we are building a Conv3D network\n",
    "                        image = image/255\n",
    "\n",
    "                    batch_data[folder,idx,:,:,0] = image[:,:,0]\n",
    "                    batch_data[folder,idx,:,:,1] = image[:,:,1]\n",
    "                    batch_data[folder,idx,:,:,2] = image[:,:,2]\n",
    "                    \n",
    "                batch_labels[folder, int(t[folder + (batch*batch_size)].strip().split(';')[2])] = 1\n",
    "            if base_model:\n",
    "                s1 = batch_data.shape\n",
    "                n1 = base_model.predict(batch_data.reshape(s1[0]*s1[1],s1[2],s1[3],s1[4]))\n",
    "                s2 = n1.shape\n",
    "                batch_data = n1.reshape(s1[0],s1[1],s2[1],s2[2],s2[3])\n",
    "            yield batch_data, batch_labels #you yield the batch_data and the batch_labels, remember what does yield do\n",
    "        \n",
    "        # write the code for the remaining data points which are left after full batches\n",
    "        # remaining data #\n",
    "        if len(t) % batch_size != 0:                                      # Execute only if, we need to\n",
    "            batch_data = np.zeros((len(t) % batch_size,len(frame_selection_list),transform_size[0],transform_size[1],channels))     # fix the last batch size\n",
    "            batch_labels = np.zeros((len(t) % batch_size,5))              # Similarly, for labels\n",
    "            for v_idx,folder in enumerate(t[(num_batches*batch_size):]):\n",
    "                #print(folder.split(';')[0])\n",
    "                imgs = os.listdir(source_path+\"/\"+folder.split(';')[0])\n",
    "                for idx, item in enumerate(img_idx):\n",
    "                    image = imread(source_path+'/'+folder.split(';')[0]+\"/\"+imgs[item]).astype(np.float64)\n",
    "                    image = image_processor(image,transform_size)\n",
    "\n",
    "                    if base_model:\n",
    "                        # This is when we are using a pre-learned CNN2D network\n",
    "                        image = process_input_func(image)\n",
    "                    else:\n",
    "                        # This is when we are building a Conv3D network\n",
    "                        image = image/255\n",
    "\n",
    "                    batch_data[v_idx,idx,:,:,0] = image[:,:,0]\n",
    "                    batch_data[v_idx,idx,:,:,1] = image[:,:,1]\n",
    "                    batch_data[v_idx,idx,:,:,0] = image[:,:,2]\n",
    "                batch_labels[v_idx,int(folder.split(\";\")[2])] = 1\n",
    "            if base_model:\n",
    "                s1 = batch_data.shape\n",
    "                n1 = base_model.predict(batch_data.reshape(s1[0]*s1[1],s1[2],s1[3],s1[4]))\n",
    "                s2 = n1.shape\n",
    "                batch_data = n1.reshape(s1[0],s1[1],s2[1],s2[2],s2[3])\n",
    "            yield batch_data,batch_labels"
   ]
  },
  {
   "cell_type": "markdown",
   "metadata": {
    "_uuid": "bd25cd0f01f9e269e0b94382525faed2815a7227",
    "colab_type": "text",
    "id": "80ys9uQWOoYZ"
   },
   "source": [
    "Recording *current_date-time* and fixing training data and validation data folder paths."
   ]
  },
  {
   "cell_type": "code",
   "execution_count": null,
   "metadata": {
    "ExecuteTime": {
     "end_time": "2018-12-24T10:03:24.621378Z",
     "start_time": "2018-12-24T10:03:24.554098Z"
    },
    "_uuid": "39075d8157407af445f4e66eade33cb1cf0b99a2",
    "colab": {},
    "colab_type": "code",
    "id": "7qG0kWgzOoYa"
   },
   "outputs": [],
   "source": [
    "curr_dt_time = datetime.datetime.now()\n",
    "train_path = '../input/data/Project_data/train'\n",
    "val_path = '../input/data/Project_data/val'"
   ]
  },
  {
   "cell_type": "markdown",
   "metadata": {
    "_uuid": "db716dc31b46e3cd1546dc0f580c83270c82f6c2",
    "colab_type": "text",
    "id": "PF4i-9NXOoYe"
   },
   "source": [
    "## Model\n",
    "Setting up base information for model building process.\n",
    "\n",
    "*IMPORTANT*\n",
    "We are using VGG19 pre-trained model for CONV2D modelling.\n",
    "\n",
    "If this code is CONV3D, then even though we are building the *base_model* and *preprocess_input_func* variables, but we will not use them further in the code.\n",
    "\n",
    "If this code is CONV2D+RNN type modelling, then we will use *base_model* and *preprocess_input_func* variables further in the code."
   ]
  },
  {
   "cell_type": "code",
   "execution_count": null,
   "metadata": {
    "ExecuteTime": {
     "end_time": "2018-12-24T10:06:14.246527Z",
     "start_time": "2018-12-24T10:06:14.241521Z"
    },
    "_uuid": "164747b733d902a997d84f7d02a0402b29191359",
    "colab": {},
    "colab_type": "code",
    "id": "fiFuDsq6OoYe",
    "outputId": "47fb5c64-012f-4bf8-e3c4-a605d04815d2"
   },
   "outputs": [
    {
     "name": "stdout",
     "output_type": "stream",
     "text": [
      "Downloading data from https://github.com/fchollet/deep-learning-models/releases/download/v0.1/vgg19_weights_tf_dim_ordering_tf_kernels_notop.h5\n",
      "80142336/80134624 [==============================] - 1s 0us/step\n"
     ]
    }
   ],
   "source": [
    "train_data = train_doc\n",
    "val_data = val_doc\n",
    "transform_size = (90,90)\n",
    "batch_size = 16\n",
    "num_epochs = 50\n",
    "reduce_LR_patience = 5\n",
    "frame_selection_list = getframeselectionlist(choiceoflist=0)\n",
    "num_train_sequences = len(train_data)\n",
    "num_val_sequences = len(val_data)\n",
    "model_name = \"model_init_conv3d\"\n",
    "\n",
    "from keras.applications.vgg19 import VGG19 as base_conv2d_model\n",
    "from keras.applications.vgg19 import preprocess_input\n",
    "\n",
    "base_model = base_conv2d_model(weights=\"imagenet\",include_top=False)\n",
    "preprocess_input_func = preprocess_input\n",
    "\n",
    "os.environ.putenv(\"HDF5_USE_FILE_LOCKING\",\"FALSE\")"
   ]
  },
  {
   "cell_type": "markdown",
   "metadata": {
    "_uuid": "976d63b6fd893138ab78d94f849a8e7e9fc8e97d",
    "colab_type": "text",
    "id": "wSOSvHf6OoYi"
   },
   "source": [
    "#### Building Neural Network Model Architecture ####"
   ]
  },
  {
   "cell_type": "code",
   "execution_count": null,
   "metadata": {
    "_uuid": "4244a03d9ba0e22baf37df04a0d2213aa15c01e3",
    "colab": {},
    "colab_type": "code",
    "id": "BL400NmSOoYj",
    "outputId": "437e2ec2-28fd-4c43-d8f9-29610814b885"
   },
   "outputs": [
    {
     "name": "stdout",
     "output_type": "stream",
     "text": [
      "Source path =  ../input/data/Project_data/train ; batch size = 16\n"
     ]
    },
    {
     "name": "stderr",
     "output_type": "stream",
     "text": [
      "/opt/conda/lib/python3.6/site-packages/ipykernel_launcher.py:21: DeprecationWarning: `imread` is deprecated!\n",
      "`imread` is deprecated in SciPy 1.0.0, and will be removed in 1.2.0.\n",
      "Use ``imageio.imread`` instead.\n",
      "/opt/conda/lib/python3.6/site-packages/skimage/transform/_warps.py:84: UserWarning: The default mode, 'constant', will be changed to 'reflect' in skimage 0.15.\n",
      "  warn(\"The default mode, 'constant', will be changed to 'reflect' in \"\n"
     ]
    },
    {
     "name": "stdout",
     "output_type": "stream",
     "text": [
      "Input batch shape : (16, 30, 90, 90, 3)\n"
     ]
    }
   ],
   "source": [
    "from keras.models import Sequential, Model\n",
    "from keras.layers import Dense, GRU, Flatten, TimeDistributed, Flatten, BatchNormalization, Activation, Dropout\n",
    "from keras.layers.convolutional import Conv3D, MaxPooling3D\n",
    "from keras.callbacks import ModelCheckpoint, ReduceLROnPlateau\n",
    "from keras import optimizers\n",
    "from keras.regularizers import l2\n",
    "\n",
    "input_sample = next(generator(train_path,\n",
    "                              train_data, \n",
    "                              batch_size=batch_size,\n",
    "                              transform_size=transform_size,\n",
    "                              frame_selection_list=frame_selection_list,\n",
    "                              process_input_func=None,\n",
    "                              base_model=None))\n",
    "print(\"Input batch shape : %s\" %(str(input_sample[0].shape)))\n",
    "model = Sequential()\n",
    "model.add(Conv3D(32,(3,3,3),padding=\"same\",input_shape = input_sample[0].shape[1:]))\n",
    "model.add(Activation(\"relu\"))\n",
    "model.add(BatchNormalization())\n",
    "model.add(Conv3D(32,(3,3,3)))\n",
    "model.add(Activation('relu'))\n",
    "model.add(BatchNormalization())\n",
    "model.add(MaxPooling3D(pool_size=(3,3,3)))\n",
    "#model.add(Dropout(0.25))\n",
    "\n",
    "model.add(Conv3D(64,(3,3,3),padding=\"same\"))\n",
    "model.add(Activation(\"relu\"))\n",
    "model.add(BatchNormalization())\n",
    "model.add(Conv3D(64,(3,3,3)))\n",
    "model.add(Activation('relu'))\n",
    "model.add(BatchNormalization())\n",
    "model.add(MaxPooling3D(pool_size=(3,3,3)))\n",
    "#model.add(Dropout(0.25))\n",
    "\n",
    "model.add(Flatten())\n",
    "model.add(Dense(512,kernel_regularizer=l2(0.01)))\n",
    "model.add(Activation('relu'))\n",
    "model.add(Dropout(0.25))\n",
    "\n",
    "model.add(Dense(256,kernel_regularizer=l2(0.01)))\n",
    "model.add(Activation('relu'))\n",
    "model.add(Dropout(0.25))\n",
    "\n",
    "model.add(Dense(128,kernel_regularizer=l2(0.01)))\n",
    "model.add(Activation('relu'))\n",
    "model.add(Dropout(0.25))\n",
    "\n",
    "model.add(Dense(input_sample[1].shape[1]))\n",
    "model.add(Activation(\"softmax\"))"
   ]
  },
  {
   "cell_type": "markdown",
   "metadata": {
    "_uuid": "3d93a4b9645c2b7f03a0ffc80e90d8da2e0a5574",
    "colab_type": "text",
    "id": "tvdo9qDnOoYn"
   },
   "source": [
    "#### Setting up Neural Network configurations ####\n",
    "\n",
    "Optimizers\n",
    "loss function and metrics to be monitored.\n",
    "\n",
    "Watch out for model summary for verifications."
   ]
  },
  {
   "cell_type": "code",
   "execution_count": null,
   "metadata": {
    "_uuid": "b517c918a846b31496088b9d11ec75c99ac8d5ed",
    "colab": {},
    "colab_type": "code",
    "id": "r80HO0oEOoYo",
    "outputId": "083eba6f-4857-4feb-e18e-716d7b12d780"
   },
   "outputs": [
    {
     "name": "stdout",
     "output_type": "stream",
     "text": [
      "_________________________________________________________________\n",
      "Layer (type)                 Output Shape              Param #   \n",
      "=================================================================\n",
      "conv3d_1 (Conv3D)            (None, 30, 90, 90, 32)    2624      \n",
      "_________________________________________________________________\n",
      "activation_1 (Activation)    (None, 30, 90, 90, 32)    0         \n",
      "_________________________________________________________________\n",
      "batch_normalization_1 (Batch (None, 30, 90, 90, 32)    128       \n",
      "_________________________________________________________________\n",
      "conv3d_2 (Conv3D)            (None, 28, 88, 88, 32)    27680     \n",
      "_________________________________________________________________\n",
      "activation_2 (Activation)    (None, 28, 88, 88, 32)    0         \n",
      "_________________________________________________________________\n",
      "batch_normalization_2 (Batch (None, 28, 88, 88, 32)    128       \n",
      "_________________________________________________________________\n",
      "max_pooling3d_1 (MaxPooling3 (None, 9, 29, 29, 32)     0         \n",
      "_________________________________________________________________\n",
      "conv3d_3 (Conv3D)            (None, 9, 29, 29, 64)     55360     \n",
      "_________________________________________________________________\n",
      "activation_3 (Activation)    (None, 9, 29, 29, 64)     0         \n",
      "_________________________________________________________________\n",
      "batch_normalization_3 (Batch (None, 9, 29, 29, 64)     256       \n",
      "_________________________________________________________________\n",
      "conv3d_4 (Conv3D)            (None, 7, 27, 27, 64)     110656    \n",
      "_________________________________________________________________\n",
      "activation_4 (Activation)    (None, 7, 27, 27, 64)     0         \n",
      "_________________________________________________________________\n",
      "batch_normalization_4 (Batch (None, 7, 27, 27, 64)     256       \n",
      "_________________________________________________________________\n",
      "max_pooling3d_2 (MaxPooling3 (None, 2, 9, 9, 64)       0         \n",
      "_________________________________________________________________\n",
      "flatten_1 (Flatten)          (None, 10368)             0         \n",
      "_________________________________________________________________\n",
      "dense_1 (Dense)              (None, 512)               5308928   \n",
      "_________________________________________________________________\n",
      "activation_5 (Activation)    (None, 512)               0         \n",
      "_________________________________________________________________\n",
      "dropout_1 (Dropout)          (None, 512)               0         \n",
      "_________________________________________________________________\n",
      "dense_2 (Dense)              (None, 256)               131328    \n",
      "_________________________________________________________________\n",
      "activation_6 (Activation)    (None, 256)               0         \n",
      "_________________________________________________________________\n",
      "dropout_2 (Dropout)          (None, 256)               0         \n",
      "_________________________________________________________________\n",
      "dense_3 (Dense)              (None, 128)               32896     \n",
      "_________________________________________________________________\n",
      "activation_7 (Activation)    (None, 128)               0         \n",
      "_________________________________________________________________\n",
      "dropout_3 (Dropout)          (None, 128)               0         \n",
      "_________________________________________________________________\n",
      "dense_4 (Dense)              (None, 5)                 645       \n",
      "_________________________________________________________________\n",
      "activation_8 (Activation)    (None, 5)                 0         \n",
      "=================================================================\n",
      "Total params: 5,670,885\n",
      "Trainable params: 5,670,501\n",
      "Non-trainable params: 384\n",
      "_________________________________________________________________\n",
      "None\n"
     ]
    }
   ],
   "source": [
    "optimizer = optimizers.SGD(lr=0.01)\n",
    "model.compile(optimizer=optimizer, loss='categorical_crossentropy', metrics=['categorical_accuracy'])\n",
    "print (model.summary())"
   ]
  },
  {
   "cell_type": "markdown",
   "metadata": {
    "_uuid": "480846a185f095e6211018648a9ca869e426a770",
    "colab_type": "text",
    "id": "1wgLLYIoOoYt"
   },
   "source": [
    "#### Building up generator objects ####\n",
    "\n",
    "train_generator for training data\n",
    "\n",
    "val_generator for validation data"
   ]
  },
  {
   "cell_type": "code",
   "execution_count": null,
   "metadata": {
    "ExecuteTime": {
     "end_time": "2018-12-24T10:05:22.311781Z",
     "start_time": "2018-12-24T10:05:22.306781Z"
    },
    "_uuid": "dce5982a57adc031568e9296e5bec20baacccc33",
    "colab": {},
    "colab_type": "code",
    "id": "eKnXDrD5OoYv"
   },
   "outputs": [],
   "source": [
    "train_generator = generator(train_path,\n",
    "                            train_data, \n",
    "                            batch_size=batch_size,\n",
    "                            transform_size=transform_size,\n",
    "                            frame_selection_list=frame_selection_list,\n",
    "                            process_input_func=None,\n",
    "                            base_model=None)\n",
    "val_generator = generator(val_path,\n",
    "                          val_data, \n",
    "                          batch_size=batch_size,\n",
    "                          transform_size=transform_size,\n",
    "                          frame_selection_list=frame_selection_list,\n",
    "                          process_input_func=None,\n",
    "                          base_model=None)"
   ]
  },
  {
   "cell_type": "markdown",
   "metadata": {
    "_uuid": "7b8fb380f4b1e2c9206f84f9a1bb6d7b01bbdeeb",
    "colab_type": "text",
    "id": "2LTDivt_OoYx"
   },
   "source": [
    "#### Setting up extra parameter for Neural Network ####\n",
    "\n",
    "* ModelCheckPoint\n",
    "\n",
    "We build modelcheckpoint to save models after every epoch, so that we can refer to models to best model later on for final testing.\n",
    "* ReduceLROnPlateau\n",
    "\n",
    "If the **val_loss** value stops improving after **patience** number of epochs, we reduce the learning rate so as to take smaller steps down the gradient route for raeaching global minimum and avoid getting stuch at local minimum."
   ]
  },
  {
   "cell_type": "code",
   "execution_count": null,
   "metadata": {
    "ExecuteTime": {
     "end_time": "2018-12-24T10:05:28.669954Z",
     "start_time": "2018-12-24T10:05:28.660949Z"
    },
    "_uuid": "35de3e1ba0f2c6291ccad46c3d4d41d074f32ebf",
    "colab": {},
    "colab_type": "code",
    "id": "lHPZdtsyOoYz",
    "outputId": "5538dd5a-714e-44e5-a350-76d90ba71ab3"
   },
   "outputs": [
    {
     "name": "stdout",
     "output_type": "stream",
     "text": [
      "model_init_conv3d_2018-12-3002_59_55.602530/\n"
     ]
    }
   ],
   "source": [
    "model_name = model_name + \"_\" + str(curr_dt_time).replace(' ','').replace(':','_') + '/'\n",
    "    \n",
    "if not os.path.exists(model_name):\n",
    "    os.mkdir(model_name)\n",
    "        \n",
    "filepath = model_name + 'model-{epoch:05d}-{loss:.5f}-{categorical_accuracy:.5f}-{val_loss:.5f}-{val_categorical_accuracy:.5f}.h5'\n",
    "\n",
    "checkpoint = ModelCheckpoint(filepath, monitor='val_loss', verbose=1, save_best_only=False, save_weights_only=False, mode='auto', period=1)\n",
    "\n",
    "LR = ReduceLROnPlateau(monitor='val_loss', factor=0.2,\n",
    "                       patience=reduce_LR_patience, min_lr=0.001,verbose=1)\n",
    "\n",
    "callbacks_list = [checkpoint, LR]\n",
    "#callbacks_list = [checkpoint]\n",
    "#callbacks_list = []\n",
    "print(model_name)"
   ]
  },
  {
   "cell_type": "markdown",
   "metadata": {
    "_uuid": "5cfe4332858153c25fb98d5c29a09b97fa1d58ea",
    "colab_type": "text",
    "id": "Zcsgo_grOoY-"
   },
   "source": [
    "The `steps_per_epoch` and `validation_steps` are used by `fit_generator` to decide the number of next() calls it need to make."
   ]
  },
  {
   "cell_type": "code",
   "execution_count": null,
   "metadata": {
    "ExecuteTime": {
     "end_time": "2018-12-24T10:06:22.943538Z",
     "start_time": "2018-12-24T10:06:22.938534Z"
    },
    "_uuid": "d75fcb9f2e9175c9d5fce15698589d444def3c43",
    "colab": {},
    "colab_type": "code",
    "id": "Z8D0MyIaOoZB"
   },
   "outputs": [],
   "source": [
    "if (num_train_sequences%batch_size) == 0:\n",
    "    steps_per_epoch = int(num_train_sequences/batch_size)\n",
    "else:\n",
    "    steps_per_epoch = (num_train_sequences//batch_size) + 1\n",
    "\n",
    "if (num_val_sequences%batch_size) == 0:\n",
    "    validation_steps = int(num_val_sequences/batch_size)\n",
    "else:\n",
    "    validation_steps = (num_val_sequences//batch_size) + 1"
   ]
  },
  {
   "cell_type": "markdown",
   "metadata": {
    "_uuid": "7fd4f0b7d78ea3bd7823a8d4f4e52ddd144582b8",
    "colab_type": "text",
    "id": "OIRx4gOsOoZG"
   },
   "source": [
    "Let us now fit the model. This will start training the model and with the help of the checkpoints, you'll be able to save the model at the end of each epoch."
   ]
  },
  {
   "cell_type": "code",
   "execution_count": null,
   "metadata": {
    "ExecuteTime": {
     "end_time": "2018-12-24T09:33:39.785760Z",
     "start_time": "2018-12-24T09:33:24.008419Z"
    },
    "_uuid": "9651e405a2949affba9d4299d2b89f99c3fc6ef7",
    "colab": {},
    "colab_type": "code",
    "id": "RQfxTGJFOoZH",
    "outputId": "91fe9a10-3932-41a9-daf7-88a23306812e",
    "scrolled": true
   },
   "outputs": [
    {
     "name": "stdout",
     "output_type": "stream",
     "text": [
      "Epoch 1/50\n",
      "Source path =  ../input/data/Project_data/val ; batch size = 16\n",
      "Source path =  ../input/data/Project_data/train ; batch size = 16\n"
     ]
    },
    {
     "name": "stderr",
     "output_type": "stream",
     "text": [
      "/opt/conda/lib/python3.6/site-packages/ipykernel_launcher.py:21: DeprecationWarning: `imread` is deprecated!\n",
      "`imread` is deprecated in SciPy 1.0.0, and will be removed in 1.2.0.\n",
      "Use ``imageio.imread`` instead.\n",
      "/opt/conda/lib/python3.6/site-packages/skimage/transform/_warps.py:84: UserWarning: The default mode, 'constant', will be changed to 'reflect' in skimage 0.15.\n",
      "  warn(\"The default mode, 'constant', will be changed to 'reflect' in \"\n"
     ]
    },
    {
     "name": "stdout",
     "output_type": "stream",
     "text": [
      " 6/42 [===>..........................] - ETA: 3:06 - loss: 18.6366 - categorical_accuracy: 0.2708"
     ]
    },
    {
     "name": "stderr",
     "output_type": "stream",
     "text": [
      "/opt/conda/lib/python3.6/site-packages/ipykernel_launcher.py:54: DeprecationWarning: `imread` is deprecated!\n",
      "`imread` is deprecated in SciPy 1.0.0, and will be removed in 1.2.0.\n",
      "Use ``imageio.imread`` instead.\n"
     ]
    },
    {
     "name": "stdout",
     "output_type": "stream",
     "text": [
      "42/42 [==============================] - 161s 4s/step - loss: 16.7581 - categorical_accuracy: 0.3104 - val_loss: 16.2945 - val_categorical_accuracy: 0.3800\n",
      "\n",
      "Epoch 00001: saving model to model_init_conv3d_2018-12-3002_59_55.602530/model-00001-16.76581-0.31071-16.29452-0.38000.h5\n",
      "Epoch 2/50\n",
      "42/42 [==============================] - 117s 3s/step - loss: 15.9151 - categorical_accuracy: 0.4216 - val_loss: 15.7972 - val_categorical_accuracy: 0.3800\n",
      "\n",
      "Epoch 00002: saving model to model_init_conv3d_2018-12-3002_59_55.602530/model-00002-15.91120-0.42534-15.79718-0.38000.h5\n",
      "Epoch 3/50\n",
      "42/42 [==============================] - 119s 3s/step - loss: 15.4562 - categorical_accuracy: 0.4942 - val_loss: 15.2003 - val_categorical_accuracy: 0.5500\n",
      "\n",
      "Epoch 00003: saving model to model_init_conv3d_2018-12-3002_59_55.602530/model-00003-15.46074-0.49321-15.20034-0.55000.h5\n",
      "Epoch 4/50\n",
      "42/42 [==============================] - 120s 3s/step - loss: 15.0931 - categorical_accuracy: 0.5634 - val_loss: 15.0356 - val_categorical_accuracy: 0.5300\n",
      "\n",
      "Epoch 00004: saving model to model_init_conv3d_2018-12-3002_59_55.602530/model-00004-15.08851-0.56712-15.03559-0.53000.h5\n",
      "Epoch 5/50\n",
      "42/42 [==============================] - 118s 3s/step - loss: 14.8456 - categorical_accuracy: 0.5861 - val_loss: 14.7947 - val_categorical_accuracy: 0.5400\n",
      "\n",
      "Epoch 00005: saving model to model_init_conv3d_2018-12-3002_59_55.602530/model-00005-14.83825-0.58824-14.79473-0.54000.h5\n",
      "Epoch 6/50\n",
      "42/42 [==============================] - 119s 3s/step - loss: 14.4249 - categorical_accuracy: 0.6729 - val_loss: 14.4428 - val_categorical_accuracy: 0.5700\n",
      "\n",
      "Epoch 00006: saving model to model_init_conv3d_2018-12-3002_59_55.602530/model-00006-14.42644-0.67421-14.44281-0.57000.h5\n",
      "Epoch 7/50\n",
      "42/42 [==============================] - 116s 3s/step - loss: 14.1840 - categorical_accuracy: 0.6595 - val_loss: 14.2066 - val_categorical_accuracy: 0.6000\n",
      "\n",
      "Epoch 00007: saving model to model_init_conv3d_2018-12-3002_59_55.602530/model-00007-14.18415-0.66063-14.20662-0.60000.h5\n",
      "Epoch 8/50\n",
      "42/42 [==============================] - 119s 3s/step - loss: 13.8752 - categorical_accuracy: 0.7253 - val_loss: 13.8453 - val_categorical_accuracy: 0.6800\n",
      "\n",
      "Epoch 00008: saving model to model_init_conv3d_2018-12-3002_59_55.602530/model-00008-13.87963-0.72549-13.84527-0.68000.h5\n",
      "Epoch 9/50\n",
      "42/42 [==============================] - 118s 3s/step - loss: 13.5684 - categorical_accuracy: 0.7432 - val_loss: 14.3471 - val_categorical_accuracy: 0.5000\n",
      "\n",
      "Epoch 00009: saving model to model_init_conv3d_2018-12-3002_59_55.602530/model-00009-13.56906-0.74359-14.34708-0.50000.h5\n",
      "Epoch 10/50\n",
      "42/42 [==============================] - 118s 3s/step - loss: 13.2895 - categorical_accuracy: 0.7871 - val_loss: 13.7196 - val_categorical_accuracy: 0.6200\n",
      "\n",
      "Epoch 00010: saving model to model_init_conv3d_2018-12-3002_59_55.602530/model-00010-13.29291-0.78431-13.71962-0.62000.h5\n",
      "Epoch 11/50\n",
      "42/42 [==============================] - 119s 3s/step - loss: 13.0075 - categorical_accuracy: 0.8281 - val_loss: 13.4971 - val_categorical_accuracy: 0.5900\n",
      "\n",
      "Epoch 00011: saving model to model_init_conv3d_2018-12-3002_59_55.602530/model-00011-13.00756-0.82956-13.49707-0.59000.h5\n",
      "Epoch 12/50\n",
      "42/42 [==============================] - 120s 3s/step - loss: 12.7599 - categorical_accuracy: 0.8459 - val_loss: 13.0092 - val_categorical_accuracy: 0.7200\n",
      "\n",
      "Epoch 00012: saving model to model_init_conv3d_2018-12-3002_59_55.602530/model-00012-12.75826-0.84766-13.00923-0.72000.h5\n",
      "Epoch 13/50\n",
      "42/42 [==============================] - 120s 3s/step - loss: 12.4987 - categorical_accuracy: 0.8668 - val_loss: 12.9406 - val_categorical_accuracy: 0.6500\n",
      "\n",
      "Epoch 00013: saving model to model_init_conv3d_2018-12-3002_59_55.602530/model-00013-12.49224-0.86878-12.94061-0.65000.h5\n",
      "Epoch 14/50\n",
      "42/42 [==============================] - 119s 3s/step - loss: 12.3464 - categorical_accuracy: 0.8459 - val_loss: 12.9170 - val_categorical_accuracy: 0.6100\n",
      "\n",
      "Epoch 00014: saving model to model_init_conv3d_2018-12-3002_59_55.602530/model-00014-12.34322-0.84766-12.91696-0.61000.h5\n",
      "Epoch 15/50\n",
      "42/42 [==============================] - 121s 3s/step - loss: 12.0532 - categorical_accuracy: 0.8861 - val_loss: 13.0883 - val_categorical_accuracy: 0.5000\n",
      "\n",
      "Epoch 00015: saving model to model_init_conv3d_2018-12-3002_59_55.602530/model-00015-12.04951-0.88839-13.08833-0.50000.h5\n",
      "Epoch 16/50\n",
      "42/42 [==============================] - 118s 3s/step - loss: 11.8394 - categorical_accuracy: 0.9174 - val_loss: 12.5988 - val_categorical_accuracy: 0.6000\n",
      "\n",
      "Epoch 00016: saving model to model_init_conv3d_2018-12-3002_59_55.602530/model-00016-11.83615-0.92006-12.59882-0.60000.h5\n",
      "Epoch 17/50\n",
      "42/42 [==============================] - 118s 3s/step - loss: 11.6439 - categorical_accuracy: 0.8987 - val_loss: 12.7539 - val_categorical_accuracy: 0.4600\n",
      "\n",
      "Epoch 00017: saving model to model_init_conv3d_2018-12-3002_59_55.602530/model-00017-11.63830-0.90498-12.75390-0.46000.h5\n",
      "Epoch 18/50\n",
      "42/42 [==============================] - 117s 3s/step - loss: 11.4210 - categorical_accuracy: 0.9144 - val_loss: 12.6071 - val_categorical_accuracy: 0.6000\n",
      "\n",
      "Epoch 00018: saving model to model_init_conv3d_2018-12-3002_59_55.602530/model-00018-11.41306-0.91704-12.60715-0.60000.h5\n",
      "Epoch 19/50\n",
      "42/42 [==============================] - 115s 3s/step - loss: 11.2020 - categorical_accuracy: 0.9311 - val_loss: 11.9199 - val_categorical_accuracy: 0.6900\n",
      "\n",
      "Epoch 00019: saving model to model_init_conv3d_2018-12-3002_59_55.602530/model-00019-11.20121-0.93213-11.91990-0.69000.h5\n",
      "Epoch 20/50\n",
      "42/42 [==============================] - 117s 3s/step - loss: 11.0154 - categorical_accuracy: 0.9371 - val_loss: 12.1619 - val_categorical_accuracy: 0.6100\n",
      "\n",
      "Epoch 00020: saving model to model_init_conv3d_2018-12-3002_59_55.602530/model-00020-11.01157-0.93816-12.16192-0.61000.h5\n",
      "Epoch 21/50\n",
      "42/42 [==============================] - 116s 3s/step - loss: 10.8438 - categorical_accuracy: 0.9308 - val_loss: 12.5582 - val_categorical_accuracy: 0.5000\n",
      "\n",
      "Epoch 00021: saving model to model_init_conv3d_2018-12-3002_59_55.602530/model-00021-10.83612-0.93363-12.55822-0.50000.h5\n",
      "Epoch 22/50\n",
      "42/42 [==============================] - 119s 3s/step - loss: 10.6259 - categorical_accuracy: 0.9568 - val_loss: 11.3634 - val_categorical_accuracy: 0.6800\n",
      "\n",
      "Epoch 00022: saving model to model_init_conv3d_2018-12-3002_59_55.602530/model-00022-10.62835-0.95626-11.36341-0.68000.h5\n",
      "Epoch 23/50\n",
      "42/42 [==============================] - 118s 3s/step - loss: 10.4492 - categorical_accuracy: 0.9486 - val_loss: 13.4315 - val_categorical_accuracy: 0.4500\n",
      "\n",
      "Epoch 00023: saving model to model_init_conv3d_2018-12-3002_59_55.602530/model-00023-10.44730-0.95173-13.43145-0.45000.h5\n",
      "Epoch 24/50\n",
      "42/42 [==============================] - 120s 3s/step - loss: 10.2834 - categorical_accuracy: 0.9520 - val_loss: 12.1176 - val_categorical_accuracy: 0.5600\n",
      "\n",
      "Epoch 00024: saving model to model_init_conv3d_2018-12-3002_59_55.602530/model-00024-10.27835-0.95324-12.11763-0.56000.h5\n",
      "Epoch 25/50\n",
      "42/42 [==============================] - 119s 3s/step - loss: 10.1147 - categorical_accuracy: 0.9505 - val_loss: 11.0683 - val_categorical_accuracy: 0.6900\n",
      "\n",
      "Epoch 00025: saving model to model_init_conv3d_2018-12-3002_59_55.602530/model-00025-10.11257-0.95173-11.06834-0.69000.h5\n",
      "Epoch 26/50\n",
      "42/42 [==============================] - 121s 3s/step - loss: 9.9197 - categorical_accuracy: 0.9684 - val_loss: 10.8680 - val_categorical_accuracy: 0.6700\n",
      "\n",
      "Epoch 00026: saving model to model_init_conv3d_2018-12-3002_59_55.602530/model-00026-9.91758-0.96983-10.86800-0.67000.h5\n",
      "Epoch 27/50\n",
      "42/42 [==============================] - 121s 3s/step - loss: 9.7255 - categorical_accuracy: 0.9806 - val_loss: 10.7186 - val_categorical_accuracy: 0.6700\n",
      "\n",
      "Epoch 00027: saving model to model_init_conv3d_2018-12-3002_59_55.602530/model-00027-9.72546-0.98039-10.71859-0.67000.h5\n",
      "Epoch 28/50\n",
      "42/42 [==============================] - 119s 3s/step - loss: 9.5664 - categorical_accuracy: 0.9821 - val_loss: 10.5033 - val_categorical_accuracy: 0.7100\n",
      "\n",
      "Epoch 00028: saving model to model_init_conv3d_2018-12-3002_59_55.602530/model-00028-9.56810-0.98190-10.50334-0.71000.h5\n",
      "Epoch 29/50\n",
      "42/42 [==============================] - 120s 3s/step - loss: 9.3903 - categorical_accuracy: 0.9851 - val_loss: 10.1899 - val_categorical_accuracy: 0.7500\n",
      "\n",
      "Epoch 00029: saving model to model_init_conv3d_2018-12-3002_59_55.602530/model-00029-9.39172-0.98492-10.18986-0.75000.h5\n",
      "Epoch 30/50\n",
      "42/42 [==============================] - 120s 3s/step - loss: 9.2666 - categorical_accuracy: 0.9743 - val_loss: 10.7828 - val_categorical_accuracy: 0.6500\n",
      "\n",
      "Epoch 00030: saving model to model_init_conv3d_2018-12-3002_59_55.602530/model-00030-9.26437-0.97587-10.78283-0.65000.h5\n",
      "Epoch 31/50\n",
      "42/42 [==============================] - 119s 3s/step - loss: 9.0965 - categorical_accuracy: 0.9866 - val_loss: 10.0215 - val_categorical_accuracy: 0.7000\n",
      "\n",
      "Epoch 00031: saving model to model_init_conv3d_2018-12-3002_59_55.602530/model-00031-9.09626-0.98643-10.02147-0.70000.h5\n",
      "Epoch 32/50\n",
      "42/42 [==============================] - 120s 3s/step - loss: 8.9345 - categorical_accuracy: 0.9896 - val_loss: 9.9958 - val_categorical_accuracy: 0.7000\n",
      "\n",
      "Epoch 00032: saving model to model_init_conv3d_2018-12-3002_59_55.602530/model-00032-8.93561-0.98944-9.99577-0.70000.h5\n",
      "Epoch 33/50\n",
      "42/42 [==============================] - 120s 3s/step - loss: 8.7994 - categorical_accuracy: 0.9873 - val_loss: 10.1253 - val_categorical_accuracy: 0.6700\n",
      "\n",
      "Epoch 00033: saving model to model_init_conv3d_2018-12-3002_59_55.602530/model-00033-8.78565-0.99095-10.12532-0.67000.h5\n",
      "Epoch 34/50\n",
      "42/42 [==============================] - 117s 3s/step - loss: 8.6762 - categorical_accuracy: 0.9806 - val_loss: 9.4424 - val_categorical_accuracy: 0.7300\n",
      "\n",
      "Epoch 00034: saving model to model_init_conv3d_2018-12-3002_59_55.602530/model-00034-8.67761-0.98039-9.44237-0.73000.h5\n",
      "Epoch 35/50\n",
      "42/42 [==============================] - 118s 3s/step - loss: 8.5011 - categorical_accuracy: 0.9907 - val_loss: 9.9202 - val_categorical_accuracy: 0.6600\n",
      "\n",
      "Epoch 00035: saving model to model_init_conv3d_2018-12-3002_59_55.602530/model-00035-8.49498-0.99246-9.92020-0.66000.h5\n",
      "Epoch 36/50\n",
      "42/42 [==============================] - 120s 3s/step - loss: 8.3870 - categorical_accuracy: 0.9821 - val_loss: 10.2622 - val_categorical_accuracy: 0.6100\n",
      "\n",
      "Epoch 00036: saving model to model_init_conv3d_2018-12-3002_59_55.602530/model-00036-8.38666-0.98190-10.26223-0.61000.h5\n",
      "Epoch 37/50\n",
      "42/42 [==============================] - 121s 3s/step - loss: 8.2218 - categorical_accuracy: 0.9911 - val_loss: 9.2978 - val_categorical_accuracy: 0.6700\n",
      "\n",
      "Epoch 00037: saving model to model_init_conv3d_2018-12-3002_59_55.602530/model-00037-8.22262-0.99095-9.29780-0.67000.h5\n",
      "Epoch 38/50\n",
      "42/42 [==============================] - 120s 3s/step - loss: 8.0840 - categorical_accuracy: 0.9926 - val_loss: 9.0577 - val_categorical_accuracy: 0.7000\n",
      "\n",
      "Epoch 00038: saving model to model_init_conv3d_2018-12-3002_59_55.602530/model-00038-8.08450-0.99246-9.05771-0.70000.h5\n",
      "Epoch 39/50\n",
      "42/42 [==============================] - 119s 3s/step - loss: 7.9459 - categorical_accuracy: 0.9985 - val_loss: 8.9886 - val_categorical_accuracy: 0.7000\n",
      "\n",
      "Epoch 00039: saving model to model_init_conv3d_2018-12-3002_59_55.602530/model-00039-7.94682-0.99849-8.98857-0.70000.h5\n",
      "Epoch 40/50\n",
      "42/42 [==============================] - 118s 3s/step - loss: 7.8195 - categorical_accuracy: 0.9866 - val_loss: 8.8998 - val_categorical_accuracy: 0.7100\n",
      "\n",
      "Epoch 00040: saving model to model_init_conv3d_2018-12-3002_59_55.602530/model-00040-7.81966-0.98643-8.89976-0.71000.h5\n",
      "Epoch 41/50\n",
      "42/42 [==============================] - 121s 3s/step - loss: 7.6903 - categorical_accuracy: 0.9940 - val_loss: 8.7325 - val_categorical_accuracy: 0.7400\n",
      "\n",
      "Epoch 00041: saving model to model_init_conv3d_2018-12-3002_59_55.602530/model-00041-7.69051-0.99397-8.73251-0.74000.h5\n",
      "Epoch 42/50\n",
      "42/42 [==============================] - 119s 3s/step - loss: 7.5516 - categorical_accuracy: 1.0000 - val_loss: 8.4559 - val_categorical_accuracy: 0.7300\n",
      "\n",
      "Epoch 00042: saving model to model_init_conv3d_2018-12-3002_59_55.602530/model-00042-7.55259-1.00000-8.45595-0.73000.h5\n",
      "Epoch 43/50\n",
      "42/42 [==============================] - 120s 3s/step - loss: 7.4309 - categorical_accuracy: 0.9955 - val_loss: 8.3081 - val_categorical_accuracy: 0.7500\n",
      "\n",
      "Epoch 00043: saving model to model_init_conv3d_2018-12-3002_59_55.602530/model-00043-7.43115-0.99548-8.30807-0.75000.h5\n",
      "Epoch 44/50\n",
      "42/42 [==============================] - 119s 3s/step - loss: 7.3061 - categorical_accuracy: 0.9955 - val_loss: 8.3706 - val_categorical_accuracy: 0.7300\n",
      "\n",
      "Epoch 00044: saving model to model_init_conv3d_2018-12-3002_59_55.602530/model-00044-7.30657-0.99548-8.37056-0.73000.h5\n",
      "Epoch 45/50\n",
      "42/42 [==============================] - 120s 3s/step - loss: 7.1922 - categorical_accuracy: 0.9955 - val_loss: 8.1594 - val_categorical_accuracy: 0.7000\n",
      "\n",
      "Epoch 00045: saving model to model_init_conv3d_2018-12-3002_59_55.602530/model-00045-7.19317-0.99548-8.15937-0.70000.h5\n",
      "Epoch 46/50\n",
      "42/42 [==============================] - 120s 3s/step - loss: 7.0666 - categorical_accuracy: 0.9970 - val_loss: 8.2790 - val_categorical_accuracy: 0.7000\n",
      "\n",
      "Epoch 00046: saving model to model_init_conv3d_2018-12-3002_59_55.602530/model-00046-7.06730-0.99698-8.27896-0.70000.h5\n",
      "Epoch 47/50\n",
      "42/42 [==============================] - 120s 3s/step - loss: 6.9502 - categorical_accuracy: 0.9970 - val_loss: 7.8163 - val_categorical_accuracy: 0.7500\n",
      "\n",
      "Epoch 00047: saving model to model_init_conv3d_2018-12-3002_59_55.602530/model-00047-6.95111-0.99698-7.81628-0.75000.h5\n",
      "Epoch 48/50\n",
      "42/42 [==============================] - 120s 3s/step - loss: 6.8346 - categorical_accuracy: 0.9970 - val_loss: 7.7841 - val_categorical_accuracy: 0.7200\n",
      "\n",
      "Epoch 00048: saving model to model_init_conv3d_2018-12-3002_59_55.602530/model-00048-6.83539-0.99698-7.78407-0.72000.h5\n",
      "Epoch 49/50\n",
      "42/42 [==============================] - 119s 3s/step - loss: 6.7241 - categorical_accuracy: 1.0000 - val_loss: 7.6960 - val_categorical_accuracy: 0.7100\n",
      "\n",
      "Epoch 00049: saving model to model_init_conv3d_2018-12-3002_59_55.602530/model-00049-6.72467-1.00000-7.69603-0.71000.h5\n",
      "Epoch 50/50\n",
      "42/42 [==============================] - 119s 3s/step - loss: 6.6202 - categorical_accuracy: 0.9955 - val_loss: 7.9949 - val_categorical_accuracy: 0.6300\n",
      "\n",
      "Epoch 00050: saving model to model_init_conv3d_2018-12-3002_59_55.602530/model-00050-6.61957-0.99548-7.99490-0.63000.h5\n"
     ]
    }
   ],
   "source": [
    "conv3d_model = model.fit_generator(train_generator, steps_per_epoch=steps_per_epoch, epochs=num_epochs, verbose=1, \n",
    "                              callbacks=callbacks_list, validation_data=val_generator, \n",
    "                              validation_steps=validation_steps, class_weight=None, workers=1, initial_epoch=0)"
   ]
  },
  {
   "cell_type": "markdown",
   "metadata": {
    "_uuid": "db43a64d2384f862d0eb3050827f9fe9b5954490",
    "colab_type": "text",
    "id": "k8BjqdTBOoZK"
   },
   "source": [
    "#### Building graphs"
   ]
  },
  {
   "cell_type": "code",
   "execution_count": null,
   "metadata": {
    "_uuid": "fbfecf8ed88165afb8a62d6a5a6c5521bb24050d",
    "colab": {},
    "colab_type": "code",
    "id": "jo5w78mLOoZK",
    "outputId": "043e6bc1-c693-4dab-c17c-ffc225a6839f"
   },
   "outputs": [
    {
     "data": {
      "image/png": "[encoded data removed]",
      "text/plain": [
       "<Figure size 432x288 with 1 Axes>"
      ]
     },
     "metadata": {
      "tags": []
     },
     "output_type": "display_data"
    }
   ],
   "source": [
    "import matplotlib.pyplot as plt\n",
    "plt.plot(conv3d_model.history[\"categorical_accuracy\"])\n",
    "plt.plot(conv3d_model.history[\"val_categorical_accuracy\"])\n",
    "plt.xlabel(\"EPOCHS\")\n",
    "plt.ylabel(\"Percentage\")\n",
    "plt.ylim(0.0,1.0)\n",
    "plt.title(\"Model Performance (Conv3D)\")\n",
    "plt.legend([\"train\",\"test\"],loc=\"lower right\")\n",
    "plt.show()"
   ]
  },
  {
   "cell_type": "code",
   "execution_count": null,
   "metadata": {
    "_uuid": "ccfe87a75801bc2fbcbb098dda901cd86981decc",
    "colab": {},
    "colab_type": "code",
    "id": "gBfsqud3OoZO",
    "outputId": "04f5a30a-1c16-45c7-d4a0-d7dcd1e009d0"
   },
   "outputs": [
    {
     "data": {
      "image/png": "[encoded data removed]",
      "text/plain": [
       "<Figure size 432x288 with 1 Axes>"
      ]
     },
     "metadata": {
      "tags": []
     },
     "output_type": "display_data"
    }
   ],
   "source": [
    "plt.plot(conv3d_model.history[\"loss\"])\n",
    "plt.plot(conv3d_model.history[\"val_loss\"])\n",
    "plt.xlabel(\"EPOCHS\")\n",
    "plt.ylabel(\"LOSS\")\n",
    "#plt.ylim(0.0,3.0)\n",
    "plt.title(\"Conv3D Model (LOSS)\")\n",
    "plt.legend([\"Train\",\"Testing\"],loc=\"upper right\")\n",
    "plt.show()"
   ]
  },
  {
   "cell_type": "markdown",
   "metadata": {
    "_uuid": "f93305c6acd878497f23ff3248a3a476f2c992a9",
    "colab_type": "text",
    "id": "YOKtgiXvOoZR"
   },
   "source": [
    "#### Checking the EPOCH index where maximum validation accuracy was achieved ####"
   ]
  },
  {
   "cell_type": "code",
   "execution_count": null,
   "metadata": {
    "_uuid": "d0a351c51b5fbd95219c9f3931ed05979244b8c6",
    "colab": {},
    "colab_type": "code",
    "id": "FFWmhBHhOoZT",
    "outputId": "e7cd814b-fca1-45d8-92ac-dec0a02e8be4"
   },
   "outputs": [
    {
     "name": "stdout",
     "output_type": "stream",
     "text": [
      "Maximum Validation Accuracy = 0.750000 achieved at epoch iteration = 29\n"
     ]
    }
   ],
   "source": [
    "print(\"Maximum Validation Accuracy = %f achieved at epoch iteration = %d\" %(np.array(conv3d_model.history[\"val_categorical_accuracy\"]).max(),np.array(conv3d_model.history[\"val_categorical_accuracy\"]).argmax() + 1))\n",
    "sel_model_idx = np.array(conv3d_model.history[\"val_categorical_accuracy\"]).argmax() + 1"
   ]
  },
  {
   "cell_type": "markdown",
   "metadata": {
    "_uuid": "eaa234895dc26c59456f0b4547bdc8c1cce7c225",
    "colab_type": "text",
    "id": "Sg0NaK11OoZX"
   },
   "source": [
    "#### Selecting h5 file for loading model ####"
   ]
  },
  {
   "cell_type": "code",
   "execution_count": null,
   "metadata": {
    "_uuid": "c8bb05994e82756d97707607328324a6fefeadf7",
    "colab": {},
    "colab_type": "code",
    "id": "773SSpkYOoZX",
    "outputId": "2a45940b-a55c-4098-d2ed-6716ffe5ee2f"
   },
   "outputs": [
    {
     "name": "stdout",
     "output_type": "stream",
     "text": [
      "Selected model name : model_init_conv3d_2018-12-3002_59_55.602530/model-00029-9.39172-0.98492-10.18986-0.75000.h5\n"
     ]
    }
   ],
   "source": [
    "import os\n",
    "import re\n",
    "search_string = \"model-0*\" + str(sel_model_idx) + \"-[a-z0-9\\-\\.]*\"\n",
    "selected_model_name = model_name + list(filter(lambda x: re.search(search_string,x),os.listdir(model_name)))[0]\n",
    "print(\"Selected model name : %s\" %(selected_model_name))"
   ]
  },
  {
   "cell_type": "markdown",
   "metadata": {
    "_uuid": "beb2a9e26a0ec583942d9c6608c87ae496a162ba",
    "colab_type": "text",
    "id": "HYc_Z-t0OoZe"
   },
   "source": [
    "#### Loading model weights from h5 file ####"
   ]
  },
  {
   "cell_type": "code",
   "execution_count": null,
   "metadata": {
    "_uuid": "c5a7e6864c083885097eab58790c632c81a30369",
    "colab": {},
    "colab_type": "code",
    "id": "s79A9PB0OoZg"
   },
   "outputs": [],
   "source": [
    "from keras.models import clone_model\n",
    "selected_model = clone_model(model)\n",
    "selected_model.load_weights(selected_model_name)"
   ]
  },
  {
   "cell_type": "markdown",
   "metadata": {
    "_uuid": "886a1d6fc7893faaa031d661c3374a898b08e32b",
    "colab_type": "text",
    "id": "EVMQrlvAOoZl"
   },
   "source": [
    "#### Performing prediction on validation data ####"
   ]
  },
  {
   "cell_type": "code",
   "execution_count": null,
   "metadata": {
    "_uuid": "31df620b2298c7fa018fb8d00b4c08e70686b135",
    "colab": {},
    "colab_type": "code",
    "id": "fYAQSx-EOoZp",
    "outputId": "755c44b5-627c-4fac-d8b8-9a9f04c83552"
   },
   "outputs": [
    {
     "name": "stdout",
     "output_type": "stream",
     "text": [
      "Source path =  ../input/data/Project_data/val ; batch size = 16\n"
     ]
    },
    {
     "name": "stderr",
     "output_type": "stream",
     "text": [
      "/opt/conda/lib/python3.6/site-packages/ipykernel_launcher.py:21: DeprecationWarning: `imread` is deprecated!\n",
      "`imread` is deprecated in SciPy 1.0.0, and will be removed in 1.2.0.\n",
      "Use ``imageio.imread`` instead.\n",
      "/opt/conda/lib/python3.6/site-packages/skimage/transform/_warps.py:84: UserWarning: The default mode, 'constant', will be changed to 'reflect' in skimage 0.15.\n",
      "  warn(\"The default mode, 'constant', will be changed to 'reflect' in \"\n"
     ]
    },
    {
     "name": "stdout",
     "output_type": "stream",
     "text": [
      "16/16 [==============================] - 1s 51ms/step\n",
      "16/16 [==============================] - 1s 37ms/step\n",
      "16/16 [==============================] - 1s 34ms/step\n",
      "16/16 [==============================] - 1s 35ms/step\n",
      "16/16 [==============================] - 1s 34ms/step\n",
      "16/16 [==============================] - 1s 34ms/step\n"
     ]
    },
    {
     "name": "stderr",
     "output_type": "stream",
     "text": [
      "/opt/conda/lib/python3.6/site-packages/ipykernel_launcher.py:54: DeprecationWarning: `imread` is deprecated!\n",
      "`imread` is deprecated in SciPy 1.0.0, and will be removed in 1.2.0.\n",
      "Use ``imageio.imread`` instead.\n"
     ]
    },
    {
     "name": "stdout",
     "output_type": "stream",
     "text": [
      "4/4 [==============================] - 0s 32ms/step\n"
     ]
    }
   ],
   "source": [
    "testing_val_generator = generator(val_path,\n",
    "                          val_data, \n",
    "                          batch_size=batch_size,\n",
    "                          transform_size=transform_size,\n",
    "                          frame_selection_list=frame_selection_list,\n",
    "                          process_input_func=None,\n",
    "                          base_model=None)\n",
    "result = None\n",
    "for x in range(validation_steps):\n",
    "    x_val,y_val = next(testing_val_generator)\n",
    "    p_val = selected_model.predict(x_val,batch_size=batch_size,verbose=1)\n",
    "    if x == 0:\n",
    "        result = np.vstack((y_val.argmax(axis=1),p_val.argmax(axis=1)))\n",
    "    else:\n",
    "        result = np.hstack((result,np.vstack((y_val.argmax(axis=1),p_val.argmax(axis=1)))))"
   ]
  },
  {
   "cell_type": "markdown",
   "metadata": {
    "_uuid": "cf5c2d1a7aea099059e723f2fac9961604b9b41a",
    "colab_type": "text",
    "id": "ktaazwc9OoZv"
   },
   "source": [
    "#### Consolidating Results ####"
   ]
  },
  {
   "cell_type": "code",
   "execution_count": null,
   "metadata": {
    "_uuid": "846ab6db846b74c8553fdd638eed853e8c9a9c9b",
    "colab": {},
    "colab_type": "code",
    "id": "ZSZBaUtGOoZx"
   },
   "outputs": [],
   "source": [
    "result = pd.DataFrame(np.transpose(result),columns=[\"Actual\",\"Predicted\"])"
   ]
  },
  {
   "cell_type": "code",
   "execution_count": null,
   "metadata": {
    "_uuid": "ee73ccf892b823177b634e106d2ae391807739b9",
    "colab": {},
    "colab_type": "code",
    "id": "ms7Zl1HvOoZ5"
   },
   "outputs": [],
   "source": [
    "from sklearn.metrics import confusion_matrix,classification_report,accuracy_score"
   ]
  },
  {
   "cell_type": "code",
   "execution_count": null,
   "metadata": {
    "ExecuteTime": {
     "end_time": "2018-12-30T13:53:10.760345Z",
     "start_time": "2018-12-30T13:53:10.742333Z"
    },
    "colab": {},
    "colab_type": "code",
    "id": "QCbaGGqUOoaC",
    "outputId": "3da5e47c-a46c-42df-e6c4-91ff9d00eeaa"
   },
   "outputs": [
    {
     "data": {
      "text/html": [
       "<div>\n",
       "<style>\n",
       "    .dataframe thead tr:only-child th {\n",
       "        text-align: right;\n",
       "    }\n",
       "\n",
       "    .dataframe thead th {\n",
       "        text-align: left;\n",
       "    }\n",
       "\n",
       "    .dataframe tbody tr th {\n",
       "        vertical-align: top;\n",
       "    }\n",
       "</style>\n",
       "<table border=\"1\" class=\"dataframe\">\n",
       "  <thead>\n",
       "    <tr style=\"text-align: right;\">\n",
       "      <th></th>\n",
       "      <th>Predicted_Left</th>\n",
       "      <th>Predicted_Right</th>\n",
       "      <th>Predicted_Stop</th>\n",
       "      <th>Predicted_Down</th>\n",
       "      <th>Predicted_Up</th>\n",
       "    </tr>\n",
       "  </thead>\n",
       "  <tbody>\n",
       "    <tr>\n",
       "      <th>Actual_Left</th>\n",
       "      <td>10</td>\n",
       "      <td>6</td>\n",
       "      <td>1</td>\n",
       "      <td>1</td>\n",
       "      <td>0</td>\n",
       "    </tr>\n",
       "    <tr>\n",
       "      <th>Actual_Right</th>\n",
       "      <td>0</td>\n",
       "      <td>23</td>\n",
       "      <td>0</td>\n",
       "      <td>0</td>\n",
       "      <td>0</td>\n",
       "    </tr>\n",
       "    <tr>\n",
       "      <th>Actual_Stop</th>\n",
       "      <td>3</td>\n",
       "      <td>2</td>\n",
       "      <td>12</td>\n",
       "      <td>3</td>\n",
       "      <td>2</td>\n",
       "    </tr>\n",
       "    <tr>\n",
       "      <th>Actual_Down</th>\n",
       "      <td>0</td>\n",
       "      <td>0</td>\n",
       "      <td>0</td>\n",
       "      <td>19</td>\n",
       "      <td>2</td>\n",
       "    </tr>\n",
       "    <tr>\n",
       "      <th>Actual_Up</th>\n",
       "      <td>1</td>\n",
       "      <td>0</td>\n",
       "      <td>2</td>\n",
       "      <td>2</td>\n",
       "      <td>11</td>\n",
       "    </tr>\n",
       "  </tbody>\n",
       "</table>\n",
       "</div>"
      ],
      "text/plain": [
       "              Predicted_Left  Predicted_Right  Predicted_Stop  Predicted_Down  \\\n",
       "Actual_Left               10                6               1               1   \n",
       "Actual_Right               0               23               0               0   \n",
       "Actual_Stop                3                2              12               3   \n",
       "Actual_Down                0                0               0              19   \n",
       "Actual_Up                  1                0               2               2   \n",
       "\n",
       "              Predicted_Up  \n",
       "Actual_Left              0  \n",
       "Actual_Right             0  \n",
       "Actual_Stop              2  \n",
       "Actual_Down              2  \n",
       "Actual_Up               11  "
      ]
     },
     "execution_count": 23,
     "metadata": {
      "tags": []
     },
     "output_type": "execute_result"
    }
   ],
   "source": [
    "cf_np = confusion_matrix(result.Actual,result.Predicted,labels=range(0,5))\n",
    "cf_df = pd.DataFrame(cf_np,columns=[\"Predicted_\" + str(x) for x in [\"Left\",\"Right\",\"Stop\",\"Down\",\"Up\"]],index=[\"Actual_\" + str(x) for x in [\"Left\",\"Right\",\"Stop\",\"Down\",\"Up\"]])\n",
    "cf_df"
   ]
  },
  {
   "cell_type": "code",
   "execution_count": null,
   "metadata": {
    "_uuid": "3c34c540cd44296a54fcaa3e327752b76d4b9bb8",
    "colab": {},
    "colab_type": "code",
    "id": "aOxkOmymOoaH",
    "outputId": "c8684de4-e40e-41f1-820a-1ae5848f1d53"
   },
   "outputs": [
    {
     "name": "stdout",
     "output_type": "stream",
     "text": [
      "Cummalative Accuracy Score : 0.750000\n",
      "Cummalative Categorical Accuracy : 0.760000\n"
     ]
    }
   ],
   "source": [
    "print(\"Cummalative Accuracy Score : %f\" %(accuracy_score(result.Actual,result.Predicted)))\n",
    "print(\"Cummalative Categorical Accuracy : %f\" %(0.7600))"
   ]
  }
 ],
 "metadata": {
  "colab": {
   "name": "CNN3D_final_version.ipynb",
   "provenance": [],
   "version": "0.3.2"
  },
  "kernelspec": {
   "display_name": "Python 3",
   "language": "python",
   "name": "python3"
  },
  "language_info": {
   "codemirror_mode": {
    "name": "ipython",
    "version": 3
   },
   "file_extension": ".py",
   "mimetype": "text/x-python",
   "name": "python",
   "nbconvert_exporter": "python",
   "pygments_lexer": "ipython3",
   "version": "3.6.0"
  }
 },
 "nbformat": 4,
 "nbformat_minor": 2
}
