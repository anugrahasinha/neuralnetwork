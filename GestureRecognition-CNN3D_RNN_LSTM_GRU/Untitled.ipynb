{
 "cells": [
  {
   "cell_type": "markdown",
   "metadata": {},
   "source": [
    "## Gesture Recognition\n",
    "\n",
    "*Author : Anugraha Sinha*\n",
    "\n",
    "*Email  : anugraha[dot]sinha[at]gmail[dot]com*\n",
    "\n",
    "### Problem Statement\n",
    "\n",
    "The problem involves the recognition of gestures (5 kind of gestures) using different architectures of Neural Network.\n",
    "Gestures can be treated as small video sample, which the network should evaluate and categorize them to be belonging to one of the 5 given gestures.\n",
    "\n",
    "### Data Provided\n",
    "The data provided consists of following parameters\n",
    "1. Video files : 30 frames per video file (Frames given in PNG format)\n",
    "2. 1 Frame – 3 channel (RGB)\n",
    "3. Training data frame size\n",
    "  - (360,360,3)\n",
    "  - (160,120,3)\n",
    "4. Number of training video = 663\n",
    "5. Number of validation videos = 100\n",
    "\n",
    "<img src=\"images/data_description.JPG\">"
   ]
  },
  {
   "cell_type": "code",
   "execution_count": null,
   "metadata": {},
   "outputs": [],
   "source": []
  }
 ],
 "metadata": {
  "kernelspec": {
   "display_name": "Python 3",
   "language": "python",
   "name": "python3"
  },
  "language_info": {
   "codemirror_mode": {
    "name": "ipython",
    "version": 3
   },
   "file_extension": ".py",
   "mimetype": "text/x-python",
   "name": "python",
   "nbconvert_exporter": "python",
   "pygments_lexer": "ipython3",
   "version": "3.6.0"
  }
 },
 "nbformat": 4,
 "nbformat_minor": 2
}
