{
 "cells": [
  {
   "cell_type": "markdown",
   "metadata": {},
   "source": [
    "#### PGDMLAI - IIIT Bangalore (Upgrad) ####\n",
    "#### Gesture Recognition Case Study ####\n",
    "Team Members:\n",
    "1. Abhishek Rajan\n",
    "2. Aiswarya Ramachandran\n",
    "3. Anugraha Sinha\n",
    "4. Vikash Sinha"
   ]
  },
  {
   "cell_type": "markdown",
   "metadata": {},
   "source": [
    "# Gesture Recognition (Using Conv2D + SimpleRNN technique)\n",
    "In this case, we will be using a CNN2D + SimpleRNN Network for evaluating geatures in videos. \n",
    "The data provided as following features\n",
    "1. 30 Video frames in each video\n",
    "2. Each frame - 3 Channel (RGB)\n",
    "3. 5 kinds of gestures (Up, Down, Right, Left, Stop)\n",
    "\n",
    "The objective is to be fullfilled for a hypothetical Smart TV company which is trying to incorporate geature recognition in its product where in the gestures mean following things\n",
    "\n",
    "Gesture   |       Left       |    Right    |    Stop      |    Down     |     Up\n",
    "----------| -----------------|-------------|--------------|-------------|-----------\n",
    "Objectives| Previous Channel | Next Channel| Stop Playing | Volume Down | Volume Up\n",
    "Y Value (Integer) | 0 | 1 | 2 | 3 | 4 "
   ]
  },
  {
   "cell_type": "markdown",
   "metadata": {},
   "source": [
    "##### Library imports #####"
   ]
  },
  {
   "cell_type": "code",
   "execution_count": 1,
   "metadata": {
    "ExecuteTime": {
     "end_time": "2018-12-24T10:02:45.291268Z",
     "start_time": "2018-12-24T10:02:16.166997Z"
    }
   },
   "outputs": [],
   "source": [
    "import numpy as np\n",
    "import os\n",
    "from scipy.misc import imread, imresize\n",
    "import datetime\n",
    "import os\n",
    "import pandas as pd\n",
    "import matplotlib.pyplot as plt"
   ]
  },
  {
   "cell_type": "markdown",
   "metadata": {},
   "source": [
    "##### We set the random seed so that the results don't vary drastically.#####"
   ]
  },
  {
   "cell_type": "code",
   "execution_count": 2,
   "metadata": {
    "ExecuteTime": {
     "end_time": "2018-12-24T10:03:12.325679Z",
     "start_time": "2018-12-24T10:02:45.295206Z"
    }
   },
   "outputs": [
    {
     "name": "stderr",
     "output_type": "stream",
     "text": [
      "Using TensorFlow backend.\n"
     ]
    }
   ],
   "source": [
    "np.random.seed(30)\n",
    "import random as rn\n",
    "rn.seed(30)\n",
    "from keras import backend as K\n",
    "import tensorflow as tf\n",
    "tf.set_random_seed(30)"
   ]
  },
  {
   "cell_type": "markdown",
   "metadata": {},
   "source": [
    "##### We set the train_doc and val_doc location #####\n",
    "*Note : Please set this location as per your environment.*"
   ]
  },
  {
   "cell_type": "code",
   "execution_count": 3,
   "metadata": {
    "ExecuteTime": {
     "end_time": "2018-12-24T10:03:12.439253Z",
     "start_time": "2018-12-24T10:03:12.328631Z"
    }
   },
   "outputs": [],
   "source": [
    "train_doc = np.random.permutation(open('../../../Project_data/train.csv').readlines())\n",
    "val_doc = np.random.permutation(open('../../../Project_data/val.csv').readlines())"
   ]
  },
  {
   "cell_type": "markdown",
   "metadata": {},
   "source": [
    "#### Image Processor ####\n",
    "The objective of this function is:\n",
    "Resize the images as per *transform_size* given by user, or take it as (120,120)\n",
    "\n",
    "**Reason**\n",
    "\n",
    "In the training data we have 2 types of video, where video frame sizes are as *(360,360)* and *(160,120)* Therefore to keep things consistent, we build a image processor which perform cropping of the image.\n",
    "\n",
    "**Note**\n",
    "\n",
    "Cropping is done as a centered image, i.e., we take the center as the reference and crop the images from both sides. For (360,360) we can use skimage.transform.resize function. However, for *(160,120)* we will have to some manual processing to crop images by the center."
   ]
  },
  {
   "cell_type": "code",
   "execution_count": 4,
   "metadata": {
    "ExecuteTime": {
     "end_time": "2018-12-24T10:03:24.517873Z",
     "start_time": "2018-12-24T10:03:12.444250Z"
    }
   },
   "outputs": [],
   "source": [
    "from skimage.transform import resize\n",
    "def image_processor(orig_image,transform_size=(120,120)):\n",
    "    # If we have an image of (360,360,3) then we use resize function.\n",
    "    # If we have an image of \n",
    "    new_image = orig_image\n",
    "    if orig_image.shape == (360,360,3):\n",
    "        new_image = resize(orig_image,transform_size)\n",
    "    else:\n",
    "        start_row = (orig_image.shape[0] - transform_size[0])//2\n",
    "        end_row = start_row + transform_size[0]\n",
    "        \n",
    "        start_col = (orig_image.shape[1] - transform_size[1])//2\n",
    "        end_col = start_col + transform_size[1]\n",
    "        new_image = orig_image[start_row:end_row,start_col:end_col,:]\n",
    "    #new_image = resize(orig_image,transform_size)\n",
    "    return(new_image)"
   ]
  },
  {
   "cell_type": "markdown",
   "metadata": {},
   "source": [
    "#### Sequence Generator ####\n",
    "This function provides a list of frame sequences we would like to use training\n",
    "\n",
    "Arguments\n",
    "\n",
    "a) choiceoflist\n",
    "\n",
    "\n",
    "choicelist | 0 | 1 | 2\n",
    "-----------|---|---|---\n",
    "Return list type | range(0,30,1) | range(0,30,2) | [0,1,2,3,4,5,6,9,12,15,18,21,24,25,26,27,28,29]"
   ]
  },
  {
   "cell_type": "code",
   "execution_count": 5,
   "metadata": {},
   "outputs": [],
   "source": [
    "def getframeselectionlist(choiceoflist=0):\n",
    "    if choiceoflist==0:\n",
    "        return [frame for frame in range(0,30,1)] # Returns 100% of frames, number of frames=30\n",
    "    elif choiceoflist==1:\n",
    "        return [frame for frame in range(0,30,2)] # returns 50% of frames, number of frames=15\n",
    "    elif choiceoflist==2:\n",
    "        \n",
    "        # For this we are taking first 5 frame+skip frame sequence+last 5 frame of the sequence\n",
    "        \n",
    "        frame_sequence=[]\n",
    "        \n",
    "        startframesequence=[0,1,2,3,4,5]\n",
    "        endframesequence=[25,26,27,28,29]\n",
    "        skip_sequence=3  #\n",
    "        middleframesequnce=[k for k in range(6,25,skip_sequence)]\n",
    "        \n",
    "        frame_sequence.extend(startframesequence)\n",
    "        frame_sequence.extend(middleframesequnce)\n",
    "        frame_sequence.extend(endframesequence)\n",
    "        \n",
    "        return frame_sequence"
   ]
  },
  {
   "cell_type": "markdown",
   "metadata": {},
   "source": [
    "### Generator ###\n",
    "This is heart of complete training process. It pumps batched data to network during learning and prediction both. The function description is given below\n",
    "\n",
    "**Arguments**\n",
    "\n",
    "1. Source Path - Directory path to be considered for reading video/images frames\n",
    "2. folder_list - Lines from the train_doc we read above.\n",
    "3. batch_size - The batch_size we want to select.\n",
    "4. transform_size - The image transformation size we  (Default - (120,120)\n",
    "5. frame_selection_list - frame_list obtained from frame_generator (Default - range(30))\n",
    "6. process_input_func - To be provided in case CNN2D+RNN type modelling being done\n",
    "7. base_model - To be provided in case CNN2D+RNN type modelling being done.\n",
    "\n",
    "**Working**\n",
    "* Case when CNN3D modelling being done\n",
    "\n",
    "In this case, for each batch (according to batch size), we build \n",
    "\n",
    "1. **batch_data** = *(batch_size, number_of_frames,image_size_x,image_size_y,n_channels)*\n",
    "2. We normalize each channel (RGB) by dividing the pixel value with 255.\n",
    "\n",
    "\n",
    "* Case when CNN2D+RNN modelling being done (RNN can be any of SimpleRNN/LSTM/GRU)\n",
    "\n",
    "In this case, for each batch (according to batch size), we build\n",
    "\n",
    "1. **batch_data** = *(batch_size, number_of_frames,image_size_x,image_size_y,n_channels)*\n",
    "2. reshape batch data as **batch_data.reshape(batch_size * number_of_frames , image_size_x , image_size_y , n_channels)**.\n",
    "3. Above reshaped numpy array is sent to *process_input_func* of the pre-learned CNN2D function. This will produce modified image vector as per pre-learned CNN2D function (like VGG19/VGG16/etc.)\n",
    "4. After *process_input_func* we reshape again to *(batch_size, number_of_frames, outputs from CNN2D vector)*\n",
    "\n",
    "\n",
    "* Final Output\n",
    "\n",
    "The final output of the function has a tuple which has the batch_data (processed) and one-hot-encoded Y variable.\n",
    "One-hot-encoded numpy array will be of size (batch_size, 5) since we have 5 kind of gestures.\n"
   ]
  },
  {
   "cell_type": "code",
   "execution_count": 6,
   "metadata": {
    "ExecuteTime": {
     "end_time": "2018-12-24T10:03:24.551099Z",
     "start_time": "2018-12-24T10:03:24.517873Z"
    }
   },
   "outputs": [],
   "source": [
    "def generator(source_path,\n",
    "              folder_list,\n",
    "              batch_size,\n",
    "              transform_size = (120,120),\n",
    "              frame_selection_list = range(30),\n",
    "              process_input_func=None,\n",
    "              base_model = None):\n",
    "    print( 'Source path = ', source_path, '; batch size =', batch_size)\n",
    "    img_idx = frame_selection_list\n",
    "    channels = 3\n",
    "    while True:\n",
    "        t = np.random.permutation(folder_list)\n",
    "        num_batches = int(len(t) / batch_size) if len(t) % batch_size == 0 else (len(t) // batch_size)\n",
    "        for batch in range(num_batches): # we iterate over the number of batches\n",
    "            batch_data = np.zeros((batch_size,len(frame_selection_list),transform_size[0],transform_size[1],channels)) # x is the number of images you use for each video, (y,z) is the final size of the input images and 3 is the number of channels RGB\n",
    "            batch_labels = np.zeros((batch_size,5)) # batch_labels is the one hot representation of the output\n",
    "            for folder in range(batch_size): # iterate over the batch_size\n",
    "                imgs = os.listdir(source_path+'/'+ t[folder + (batch*batch_size)].split(';')[0]) # read all the images in the folder\n",
    "                #print(t[folder + (batch*batch_size)].split(';')[0])\n",
    "                for idx,item in enumerate(img_idx): #  Iterate iver the frames/images of a folder to read them in\n",
    "                    image = imread(source_path+'/'+ t[folder + (batch*batch_size)].strip().split(';')[0]+'/'+imgs[item]).astype(np.float32)\n",
    "                    #crop the images and resize them. Note that the images are of 2 different shape \n",
    "                    #and the conv3D will throw error if the inputs in a batch have different shapes\n",
    "                    image = image_processor(image,transform_size)\n",
    "                    if base_model:\n",
    "                        # This is when we are using a pre-learned CNN2D network\n",
    "                        image = process_input_func(image)\n",
    "                        \n",
    "                    else:\n",
    "                        # This is when we are building a Conv3D network\n",
    "                        image = image/255\n",
    "\n",
    "                    batch_data[folder,idx,:,:,0] = image[:,:,0]\n",
    "                    batch_data[folder,idx,:,:,1] = image[:,:,1]\n",
    "                    batch_data[folder,idx,:,:,2] = image[:,:,2]\n",
    "                    \n",
    "                batch_labels[folder, int(t[folder + (batch*batch_size)].strip().split(';')[2])] = 1\n",
    "            if base_model:\n",
    "                s1 = batch_data.shape\n",
    "                n1 = base_model.predict(batch_data.reshape(s1[0]*s1[1],s1[2],s1[3],s1[4]))\n",
    "                s2 = n1.shape\n",
    "                batch_data = n1.reshape(s1[0],s1[1],s2[1]*s2[2]*s2[3])\n",
    "            yield batch_data, batch_labels #you yield the batch_data and the batch_labels, remember what does yield do\n",
    "        \n",
    "        # write the code for the remaining data points which are left after full batches\n",
    "        # remaining data #\n",
    "        if len(t) % batch_size != 0:                                      # Execute only if, we need to\n",
    "            batch_data = np.zeros((len(t) % batch_size,len(frame_selection_list),transform_size[0],transform_size[1],channels))     # fix the last batch size\n",
    "            batch_labels = np.zeros((len(t) % batch_size,5))              # Similarly, for labels\n",
    "            for v_idx,folder in enumerate(t[(num_batches*batch_size):]):\n",
    "                #print(folder.split(';')[0])\n",
    "                imgs = os.listdir(source_path+\"/\"+folder.split(';')[0])\n",
    "                for idx, item in enumerate(img_idx):\n",
    "                    image = imread(source_path+'/'+folder.split(';')[0]+\"/\"+imgs[item]).astype(np.float32)\n",
    "                    image = image_processor(image,transform_size)\n",
    "\n",
    "                    if base_model:\n",
    "                        # This is when we are using a pre-learned CNN2D network\n",
    "                        image = process_input_func(image)\n",
    "                    else:\n",
    "                        # This is when we are building a Conv3D network\n",
    "                        image = image/255\n",
    "\n",
    "                    batch_data[v_idx,idx,:,:,0] = image[:,:,0]\n",
    "                    batch_data[v_idx,idx,:,:,1] = image[:,:,1]\n",
    "                    batch_data[v_idx,idx,:,:,0] = image[:,:,2]\n",
    "                batch_labels[v_idx,int(folder.split(\";\")[2])] = 1\n",
    "            if base_model:\n",
    "                s1 = batch_data.shape\n",
    "                n1 = base_model.predict(batch_data.reshape(s1[0]*s1[1],s1[2],s1[3],s1[4]))\n",
    "                s2 = n1.shape\n",
    "                batch_data = n1.reshape(s1[0],s1[1],s2[1]*s2[2]*s2[3])\n",
    "            yield batch_data,batch_labels"
   ]
  },
  {
   "cell_type": "markdown",
   "metadata": {},
   "source": [
    "Recording *current_date-time* and fixing training data and validation data folder paths."
   ]
  },
  {
   "cell_type": "code",
   "execution_count": 7,
   "metadata": {
    "ExecuteTime": {
     "end_time": "2018-12-24T10:03:24.621378Z",
     "start_time": "2018-12-24T10:03:24.554098Z"
    }
   },
   "outputs": [],
   "source": [
    "curr_dt_time = datetime.datetime.now()\n",
    "train_path = '../../../Project_data/train'\n",
    "val_path = '../../../Project_data/val'"
   ]
  },
  {
   "cell_type": "markdown",
   "metadata": {},
   "source": [
    "## Model\n",
    "Setting up base information for model building process.\n",
    "\n",
    "*IMPORTANT*\n",
    "We are using VGG19 pre-trained model for CONV2D modelling.\n",
    "\n",
    "If this code is CONV3D, then even though we are building the *base_model* and *preprocess_input_func* variables, but we will not use them further in the code.\n",
    "\n",
    "If this code is CONV2D+RNN type modelling, then we will use *base_model* and *preprocess_input_func* variables further in the code."
   ]
  },
  {
   "cell_type": "code",
   "execution_count": 8,
   "metadata": {
    "ExecuteTime": {
     "end_time": "2018-12-24T10:06:14.246527Z",
     "start_time": "2018-12-24T10:06:14.241521Z"
    }
   },
   "outputs": [],
   "source": [
    "train_data = train_doc\n",
    "val_data = val_doc\n",
    "transform_size = (120,120)\n",
    "batch_size = 16\n",
    "num_epochs = 40\n",
    "frame_selection_list = getframeselectionlist(choiceoflist=0)\n",
    "num_train_sequences = len(train_data)\n",
    "num_val_sequences = len(val_data)\n",
    "model_name = \"model_init_conv2d_rnn\"\n",
    "\n",
    "from keras.applications.vgg19 import VGG19 as base_conv2d_model\n",
    "from keras.applications.vgg19 import preprocess_input\n",
    "\n",
    "base_model = base_conv2d_model(weights=\"imagenet\",include_top=False)\n",
    "preprocess_input_func = preprocess_input\n",
    "\n",
    "os.environ.putenv(\"HDF5_USE_FILE_LOCKING\",\"FALSE\")"
   ]
  },
  {
   "cell_type": "markdown",
   "metadata": {},
   "source": [
    "#### Building Neural Network Model Architecture ####"
   ]
  },
  {
   "cell_type": "code",
   "execution_count": 9,
   "metadata": {},
   "outputs": [
    {
     "name": "stdout",
     "output_type": "stream",
     "text": [
      "Source path =  ../../../Project_data/train ; batch size = 16\n"
     ]
    },
    {
     "name": "stderr",
     "output_type": "stream",
     "text": [
      "/opt/conda/envs/fastai/lib/python3.6/site-packages/ipykernel_launcher.py:21: DeprecationWarning: `imread` is deprecated!\n",
      "`imread` is deprecated in SciPy 1.0.0, and will be removed in 1.2.0.\n",
      "Use ``imageio.imread`` instead.\n",
      "/opt/conda/envs/fastai/lib/python3.6/site-packages/skimage/transform/_warps.py:105: UserWarning: The default mode, 'constant', will be changed to 'reflect' in skimage 0.15.\n",
      "  warn(\"The default mode, 'constant', will be changed to 'reflect' in \"\n",
      "/opt/conda/envs/fastai/lib/python3.6/site-packages/skimage/transform/_warps.py:110: UserWarning: Anti-aliasing will be enabled by default in skimage 0.15 to avoid aliasing artifacts when down-sampling images.\n",
      "  warn(\"Anti-aliasing will be enabled by default in skimage 0.15 to \"\n"
     ]
    },
    {
     "name": "stdout",
     "output_type": "stream",
     "text": [
      "Input Sample shape : (16, 30, 4608)\n"
     ]
    }
   ],
   "source": [
    "from keras.models import Sequential, Model\n",
    "from keras.layers import Dense, GRU, Flatten, TimeDistributed, Flatten, BatchNormalization, Activation, Dropout, Bidirectional, SimpleRNN, LSTM, GRU\n",
    "from keras.layers.convolutional import Conv3D, MaxPooling3D\n",
    "from keras.callbacks import ModelCheckpoint, ReduceLROnPlateau\n",
    "from keras import optimizers\n",
    "\n",
    "input_sample = next(generator(train_path,\n",
    "                              train_data, \n",
    "                              batch_size=batch_size,\n",
    "                              transform_size=transform_size,\n",
    "                              frame_selection_list=frame_selection_list,\n",
    "                              process_input_func=preprocess_input_func,\n",
    "                              base_model=base_model))\n",
    "print(\"Input Sample shape : %s\" %(str(input_sample[0].shape)))\n",
    "model = Sequential()\n",
    "model.add(SimpleRNN(64,\n",
    "                    return_sequences = True,\n",
    "                    input_shape=(input_sample[0].shape[1],input_sample[0].shape[2])))\n",
    "model.add(SimpleRNN(64))\n",
    "\n",
    "model.add(Dense(input_sample[1].shape[1], activation='softmax'))"
   ]
  },
  {
   "cell_type": "markdown",
   "metadata": {},
   "source": [
    "#### Setting up Neural Network configurations ####\n",
    "\n",
    "Optimizers\n",
    "loss function and metrics to be monitored.\n",
    "\n",
    "Watch out for model summary for verifications."
   ]
  },
  {
   "cell_type": "code",
   "execution_count": 10,
   "metadata": {},
   "outputs": [
    {
     "name": "stdout",
     "output_type": "stream",
     "text": [
      "_________________________________________________________________\n",
      "Layer (type)                 Output Shape              Param #   \n",
      "=================================================================\n",
      "simple_rnn_1 (SimpleRNN)     (None, 30, 64)            299072    \n",
      "_________________________________________________________________\n",
      "simple_rnn_2 (SimpleRNN)     (None, 64)                8256      \n",
      "_________________________________________________________________\n",
      "dense_1 (Dense)              (None, 5)                 325       \n",
      "=================================================================\n",
      "Total params: 307,653\n",
      "Trainable params: 307,653\n",
      "Non-trainable params: 0\n",
      "_________________________________________________________________\n",
      "None\n"
     ]
    }
   ],
   "source": [
    "optimizer = optimizers.SGD(lr=0.01)\n",
    "model.compile(optimizer=optimizer, loss='categorical_crossentropy', metrics=['categorical_accuracy'])\n",
    "print (model.summary())"
   ]
  },
  {
   "cell_type": "markdown",
   "metadata": {},
   "source": [
    "#### Building up generator objects ####\n",
    "\n",
    "train_generator for training data\n",
    "\n",
    "val_generator for validation data"
   ]
  },
  {
   "cell_type": "code",
   "execution_count": 11,
   "metadata": {
    "ExecuteTime": {
     "end_time": "2018-12-24T10:05:22.311781Z",
     "start_time": "2018-12-24T10:05:22.306781Z"
    }
   },
   "outputs": [],
   "source": [
    "train_generator = generator(train_path,\n",
    "                            train_data, \n",
    "                            batch_size=batch_size,\n",
    "                            transform_size=transform_size,\n",
    "                            frame_selection_list=frame_selection_list,\n",
    "                            process_input_func=preprocess_input_func,\n",
    "                            base_model=base_model)\n",
    "val_generator = generator(val_path,\n",
    "                          val_data, \n",
    "                          batch_size=batch_size,\n",
    "                          transform_size=transform_size,\n",
    "                          frame_selection_list=frame_selection_list,\n",
    "                          process_input_func=preprocess_input_func,\n",
    "                          base_model=base_model)"
   ]
  },
  {
   "cell_type": "markdown",
   "metadata": {},
   "source": [
    "#### Setting up extra parameter for Neural Network ####\n",
    "\n",
    "* ModelCheckPoint\n",
    "\n",
    "We build modelcheckpoint to save models after every epoch, so that we can refer to models to best model later on for final testing.\n",
    "* ReduceLROnPlateau\n",
    "\n",
    "If the **val_loss** value stops improving after **patience** number of epochs, we reduce the learning rate so as to take smaller steps down the gradient route for raeaching global minimum and avoid getting stuch at local minimum."
   ]
  },
  {
   "cell_type": "code",
   "execution_count": 11,
   "metadata": {
    "ExecuteTime": {
     "end_time": "2018-12-24T10:05:28.669954Z",
     "start_time": "2018-12-24T10:05:28.660949Z"
    }
   },
   "outputs": [
    {
     "name": "stdout",
     "output_type": "stream",
     "text": [
      "model_init_conv2d_rnn_2018-12-2808_32_25.080593/\n"
     ]
    }
   ],
   "source": [
    "model_name = model_name + '_' + str(curr_dt_time).replace(' ','').replace(':','_') + '/'\n",
    "    \n",
    "if not os.path.exists(model_name):\n",
    "    os.mkdir(model_name)\n",
    "        \n",
    "filepath = model_name + 'model-{epoch:05d}-{loss:.5f}-{categorical_accuracy:.5f}-{val_loss:.5f}-{val_categorical_accuracy:.5f}.h5'\n",
    "\n",
    "checkpoint = ModelCheckpoint(filepath, monitor='val_loss', verbose=1, save_best_only=False, save_weights_only=False, mode='auto', period=1)\n",
    "\n",
    "LR = ReduceLROnPlateau(monitor='val_loss', factor=0.2,\n",
    "                       patience=5, min_lr=0.001,verbose=1)\n",
    "\n",
    "callbacks_list = [checkpoint, LR]\n",
    "#callbacks_list = [checkpoint]\n",
    "#callbacks_list = []\n",
    "print(\"Model to be saved in directory : %s\" %(model_name))"
   ]
  },
  {
   "cell_type": "markdown",
   "metadata": {},
   "source": [
    "The `steps_per_epoch` and `validation_steps` are used by `fit_generator` to decide the number of next() calls it need to make."
   ]
  },
  {
   "cell_type": "code",
   "execution_count": 12,
   "metadata": {
    "ExecuteTime": {
     "end_time": "2018-12-24T10:06:22.943538Z",
     "start_time": "2018-12-24T10:06:22.938534Z"
    }
   },
   "outputs": [],
   "source": [
    "if (num_train_sequences%batch_size) == 0:\n",
    "    steps_per_epoch = int(num_train_sequences/batch_size)\n",
    "else:\n",
    "    steps_per_epoch = (num_train_sequences//batch_size) + 1\n",
    "\n",
    "if (num_val_sequences%batch_size) == 0:\n",
    "    validation_steps = int(num_val_sequences/batch_size)\n",
    "else:\n",
    "    validation_steps = (num_val_sequences//batch_size) + 1"
   ]
  },
  {
   "cell_type": "markdown",
   "metadata": {},
   "source": [
    "Let us now fit the model. This will start training the model and with the help of the checkpoints, you'll be able to save the model at the end of each epoch."
   ]
  },
  {
   "cell_type": "code",
   "execution_count": 13,
   "metadata": {
    "ExecuteTime": {
     "end_time": "2018-12-24T09:33:39.785760Z",
     "start_time": "2018-12-24T09:33:24.008419Z"
    }
   },
   "outputs": [
    {
     "name": "stdout",
     "output_type": "stream",
     "text": [
      "Epoch 1/40\n",
      "Source path =  ../Project_data/train ; batch size = 16\n",
      "Source path =  ../Project_data/val ; batch size = 16\n"
     ]
    },
    {
     "name": "stderr",
     "output_type": "stream",
     "text": [
      "/opt/conda/envs/fastai/lib/python3.6/site-packages/ipykernel_launcher.py:21: DeprecationWarning: `imread` is deprecated!\n",
      "`imread` is deprecated in SciPy 1.0.0, and will be removed in 1.2.0.\n",
      "Use ``imageio.imread`` instead.\n",
      "/opt/conda/envs/fastai/lib/python3.6/site-packages/skimage/transform/_warps.py:105: UserWarning: The default mode, 'constant', will be changed to 'reflect' in skimage 0.15.\n",
      "  warn(\"The default mode, 'constant', will be changed to 'reflect' in \"\n",
      "/opt/conda/envs/fastai/lib/python3.6/site-packages/skimage/transform/_warps.py:110: UserWarning: Anti-aliasing will be enabled by default in skimage 0.15 to avoid aliasing artifacts when down-sampling images.\n",
      "  warn(\"Anti-aliasing will be enabled by default in skimage 0.15 to \"\n"
     ]
    },
    {
     "name": "stdout",
     "output_type": "stream",
     "text": [
      " 7/42 [====>.........................] - ETA: 2:43 - loss: 1.7441 - categorical_accuracy: 0.2411"
     ]
    },
    {
     "name": "stderr",
     "output_type": "stream",
     "text": [
      "/opt/conda/envs/fastai/lib/python3.6/site-packages/ipykernel_launcher.py:54: DeprecationWarning: `imread` is deprecated!\n",
      "`imread` is deprecated in SciPy 1.0.0, and will be removed in 1.2.0.\n",
      "Use ``imageio.imread`` instead.\n"
     ]
    },
    {
     "name": "stdout",
     "output_type": "stream",
     "text": [
      "42/42 [==============================] - 181s 4s/step - loss: 1.4857 - categorical_accuracy: 0.3763 - val_loss: 1.2259 - val_categorical_accuracy: 0.5500\n",
      "\n",
      "Epoch 00001: saving model to model_init_conv2d_rnn_2018-12-2808_32_25.080593/model-00001-1.48753-0.37557-1.22586-0.55000.h5\n",
      "Epoch 2/40\n",
      "42/42 [==============================] - 179s 4s/step - loss: 1.1106 - categorical_accuracy: 0.5735 - val_loss: 1.1062 - val_categorical_accuracy: 0.5800\n",
      "\n",
      "Epoch 00002: saving model to model_init_conv2d_rnn_2018-12-2808_32_25.080593/model-00002-1.11144-0.57164-1.10618-0.58000.h5\n",
      "Epoch 3/40\n",
      "42/42 [==============================] - 179s 4s/step - loss: 0.9225 - categorical_accuracy: 0.6572 - val_loss: 1.0001 - val_categorical_accuracy: 0.6000\n",
      "\n",
      "Epoch 00003: saving model to model_init_conv2d_rnn_2018-12-2808_32_25.080593/model-00003-0.91227-0.66214-1.00005-0.60000.h5\n",
      "Epoch 4/40\n",
      "42/42 [==============================] - 177s 4s/step - loss: 0.7938 - categorical_accuracy: 0.7023 - val_loss: 1.0499 - val_categorical_accuracy: 0.5700\n",
      "\n",
      "Epoch 00004: saving model to model_init_conv2d_rnn_2018-12-2808_32_25.080593/model-00004-0.79316-0.70588-1.04987-0.57000.h5\n",
      "Epoch 5/40\n",
      "42/42 [==============================] - 176s 4s/step - loss: 0.6838 - categorical_accuracy: 0.7584 - val_loss: 0.9963 - val_categorical_accuracy: 0.6400\n",
      "\n",
      "Epoch 00005: saving model to model_init_conv2d_rnn_2018-12-2808_32_25.080593/model-00005-0.67126-0.76471-0.99632-0.64000.h5\n",
      "Epoch 6/40\n",
      "42/42 [==============================] - 179s 4s/step - loss: 0.5898 - categorical_accuracy: 0.7979 - val_loss: 0.9478 - val_categorical_accuracy: 0.6400\n",
      "\n",
      "Epoch 00006: saving model to model_init_conv2d_rnn_2018-12-2808_32_25.080593/model-00006-0.58225-0.80090-0.94779-0.64000.h5\n",
      "Epoch 7/40\n",
      "42/42 [==============================] - 177s 4s/step - loss: 0.5488 - categorical_accuracy: 0.8024 - val_loss: 0.8917 - val_categorical_accuracy: 0.7100\n",
      "\n",
      "Epoch 00007: saving model to model_init_conv2d_rnn_2018-12-2808_32_25.080593/model-00007-0.54264-0.80543-0.89166-0.71000.h5\n",
      "Epoch 8/40\n",
      "42/42 [==============================] - 180s 4s/step - loss: 0.4860 - categorical_accuracy: 0.8347 - val_loss: 1.3816 - val_categorical_accuracy: 0.5200\n",
      "\n",
      "Epoch 00008: saving model to model_init_conv2d_rnn_2018-12-2808_32_25.080593/model-00008-0.47607-0.84012-1.38160-0.52000.h5\n",
      "Epoch 9/40\n",
      "42/42 [==============================] - 178s 4s/step - loss: 0.4027 - categorical_accuracy: 0.8668 - val_loss: 0.8506 - val_categorical_accuracy: 0.6600\n",
      "\n",
      "Epoch 00009: saving model to model_init_conv2d_rnn_2018-12-2808_32_25.080593/model-00009-0.39770-0.86878-0.85065-0.66000.h5\n",
      "Epoch 10/40\n",
      "42/42 [==============================] - 178s 4s/step - loss: 0.3365 - categorical_accuracy: 0.8958 - val_loss: 0.7674 - val_categorical_accuracy: 0.7000\n",
      "\n",
      "Epoch 00010: saving model to model_init_conv2d_rnn_2018-12-2808_32_25.080593/model-00010-0.33745-0.89442-0.76738-0.70000.h5\n",
      "Epoch 11/40\n",
      "42/42 [==============================] - 176s 4s/step - loss: 0.2990 - categorical_accuracy: 0.8987 - val_loss: 0.9161 - val_categorical_accuracy: 0.6100\n",
      "\n",
      "Epoch 00011: saving model to model_init_conv2d_rnn_2018-12-2808_32_25.080593/model-00011-0.28678-0.90498-0.91610-0.61000.h5\n",
      "Epoch 12/40\n",
      "42/42 [==============================] - 175s 4s/step - loss: 0.2835 - categorical_accuracy: 0.8936 - val_loss: 0.9090 - val_categorical_accuracy: 0.6100\n",
      "\n",
      "Epoch 00012: saving model to model_init_conv2d_rnn_2018-12-2808_32_25.080593/model-00012-0.27733-0.89593-0.90903-0.61000.h5\n",
      "Epoch 13/40\n",
      "42/42 [==============================] - 177s 4s/step - loss: 0.2004 - categorical_accuracy: 0.9475 - val_loss: 0.9018 - val_categorical_accuracy: 0.6600\n",
      "\n",
      "Epoch 00013: saving model to model_init_conv2d_rnn_2018-12-2808_32_25.080593/model-00013-0.19598-0.94872-0.90177-0.66000.h5\n",
      "Epoch 14/40\n",
      "42/42 [==============================] - 180s 4s/step - loss: 0.2065 - categorical_accuracy: 0.9415 - val_loss: 0.7421 - val_categorical_accuracy: 0.7500\n",
      "\n",
      "Epoch 00014: saving model to model_init_conv2d_rnn_2018-12-2808_32_25.080593/model-00014-0.18875-0.95023-0.74211-0.75000.h5\n",
      "Epoch 15/40\n",
      "42/42 [==============================] - 179s 4s/step - loss: 0.1768 - categorical_accuracy: 0.9400 - val_loss: 1.6750 - val_categorical_accuracy: 0.5200\n",
      "\n",
      "Epoch 00015: saving model to model_init_conv2d_rnn_2018-12-2808_32_25.080593/model-00015-0.16165-0.94872-1.67504-0.52000.h5\n",
      "Epoch 16/40\n",
      "42/42 [==============================] - 177s 4s/step - loss: 0.2480 - categorical_accuracy: 0.9233 - val_loss: 0.9460 - val_categorical_accuracy: 0.7100\n",
      "\n",
      "Epoch 00016: saving model to model_init_conv2d_rnn_2018-12-2808_32_25.080593/model-00016-0.24200-0.92609-0.94597-0.71000.h5\n",
      "Epoch 17/40\n",
      "42/42 [==============================] - 177s 4s/step - loss: 0.1959 - categorical_accuracy: 0.9453 - val_loss: 1.1624 - val_categorical_accuracy: 0.6200\n",
      "\n",
      "Epoch 00017: saving model to model_init_conv2d_rnn_2018-12-2808_32_25.080593/model-00017-0.18160-0.95023-1.16242-0.62000.h5\n",
      "Epoch 18/40\n",
      "42/42 [==============================] - 181s 4s/step - loss: 0.1957 - categorical_accuracy: 0.9345 - val_loss: 1.4708 - val_categorical_accuracy: 0.5800\n",
      "\n",
      "Epoch 00018: saving model to model_init_conv2d_rnn_2018-12-2808_32_25.080593/model-00018-0.17995-0.94118-1.47081-0.58000.h5\n",
      "Epoch 19/40\n",
      "42/42 [==============================] - 179s 4s/step - loss: 0.2279 - categorical_accuracy: 0.9304 - val_loss: 0.7253 - val_categorical_accuracy: 0.7300\n",
      "\n",
      "Epoch 00019: saving model to model_init_conv2d_rnn_2018-12-2808_32_25.080593/model-00019-0.21651-0.93514-0.72526-0.73000.h5\n",
      "Epoch 20/40\n",
      "42/42 [==============================] - 179s 4s/step - loss: 0.1354 - categorical_accuracy: 0.9728 - val_loss: 0.7171 - val_categorical_accuracy: 0.7400\n",
      "\n",
      "Epoch 00020: saving model to model_init_conv2d_rnn_2018-12-2808_32_25.080593/model-00020-0.12143-0.97436-0.71712-0.74000.h5\n",
      "Epoch 21/40\n",
      "42/42 [==============================] - 174s 4s/step - loss: 0.1616 - categorical_accuracy: 0.9576 - val_loss: 1.0161 - val_categorical_accuracy: 0.6400\n",
      "\n",
      "Epoch 00021: saving model to model_init_conv2d_rnn_2018-12-2808_32_25.080593/model-00021-0.14815-0.96078-1.01612-0.64000.h5\n",
      "Epoch 22/40\n",
      "42/42 [==============================] - 181s 4s/step - loss: 0.1064 - categorical_accuracy: 0.9728 - val_loss: 0.7492 - val_categorical_accuracy: 0.7700\n",
      "\n",
      "Epoch 00022: saving model to model_init_conv2d_rnn_2018-12-2808_32_25.080593/model-00022-0.10092-0.97436-0.74916-0.77000.h5\n",
      "Epoch 23/40\n",
      "42/42 [==============================] - 183s 4s/step - loss: 0.1184 - categorical_accuracy: 0.9616 - val_loss: 0.8691 - val_categorical_accuracy: 0.6900\n",
      "\n",
      "Epoch 00023: saving model to model_init_conv2d_rnn_2018-12-2808_32_25.080593/model-00023-0.10842-0.96682-0.86906-0.69000.h5\n",
      "Epoch 24/40\n",
      "42/42 [==============================] - 182s 4s/step - loss: 0.1255 - categorical_accuracy: 0.9669 - val_loss: 0.9508 - val_categorical_accuracy: 0.7300\n",
      "\n",
      "Epoch 00024: saving model to model_init_conv2d_rnn_2018-12-2808_32_25.080593/model-00024-0.12271-0.96833-0.95077-0.73000.h5\n",
      "Epoch 25/40\n",
      "42/42 [==============================] - 205s 5s/step - loss: 0.1046 - categorical_accuracy: 0.9713 - val_loss: 1.1248 - val_categorical_accuracy: 0.6600\n",
      "\n",
      "Epoch 00025: saving model to model_init_conv2d_rnn_2018-12-2808_32_25.080593/model-00025-0.10020-0.97285-1.12477-0.66000.h5\n",
      "\n",
      "Epoch 00025: ReduceLROnPlateau reducing learning rate to 0.0019999999552965165.\n",
      "Epoch 26/40\n",
      "42/42 [==============================] - 198s 5s/step - loss: 0.0819 - categorical_accuracy: 0.9758 - val_loss: 0.7640 - val_categorical_accuracy: 0.7400\n",
      "\n",
      "Epoch 00026: saving model to model_init_conv2d_rnn_2018-12-2808_32_25.080593/model-00026-0.07705-0.97738-0.76401-0.74000.h5\n",
      "Epoch 27/40\n",
      "42/42 [==============================] - 187s 4s/step - loss: 0.0969 - categorical_accuracy: 0.9787 - val_loss: 0.8459 - val_categorical_accuracy: 0.7300\n",
      "\n",
      "Epoch 00027: saving model to model_init_conv2d_rnn_2018-12-2808_32_25.080593/model-00027-0.06466-0.98793-0.84588-0.73000.h5\n",
      "Epoch 28/40\n",
      "42/42 [==============================] - 183s 4s/step - loss: 0.0465 - categorical_accuracy: 0.9955 - val_loss: 0.8287 - val_categorical_accuracy: 0.7600\n",
      "\n",
      "Epoch 00028: saving model to model_init_conv2d_rnn_2018-12-2808_32_25.080593/model-00028-0.04460-0.99548-0.82870-0.76000.h5\n",
      "Epoch 29/40\n",
      "42/42 [==============================] - 183s 4s/step - loss: 0.0445 - categorical_accuracy: 0.9966 - val_loss: 0.7398 - val_categorical_accuracy: 0.8100\n",
      "\n",
      "Epoch 00029: saving model to model_init_conv2d_rnn_2018-12-2808_32_25.080593/model-00029-0.03407-0.99849-0.73980-0.81000.h5\n",
      "Epoch 30/40\n",
      "42/42 [==============================] - 180s 4s/step - loss: 0.0403 - categorical_accuracy: 0.9952 - val_loss: 0.7765 - val_categorical_accuracy: 0.7800\n",
      "\n",
      "Epoch 00030: saving model to model_init_conv2d_rnn_2018-12-2808_32_25.080593/model-00030-0.03191-0.99698-0.77653-0.78000.h5\n",
      "\n",
      "Epoch 00030: ReduceLROnPlateau reducing learning rate to 0.001.\n",
      "Epoch 31/40\n",
      "42/42 [==============================] - 182s 4s/step - loss: 0.0238 - categorical_accuracy: 0.9985 - val_loss: 0.7488 - val_categorical_accuracy: 0.8100\n",
      "\n",
      "Epoch 00031: saving model to model_init_conv2d_rnn_2018-12-2808_32_25.080593/model-00031-0.02364-0.99849-0.74877-0.81000.h5\n",
      "Epoch 32/40\n",
      "42/42 [==============================] - 184s 4s/step - loss: 0.0469 - categorical_accuracy: 0.9966 - val_loss: 0.7648 - val_categorical_accuracy: 0.7800\n",
      "\n",
      "Epoch 00032: saving model to model_init_conv2d_rnn_2018-12-2808_32_25.080593/model-00032-0.03290-0.99849-0.76483-0.78000.h5\n",
      "Epoch 33/40\n",
      "42/42 [==============================] - 184s 4s/step - loss: 0.0518 - categorical_accuracy: 0.9899 - val_loss: 0.7688 - val_categorical_accuracy: 0.7900\n",
      "\n",
      "Epoch 00033: saving model to model_init_conv2d_rnn_2018-12-2808_32_25.080593/model-00033-0.03488-0.99548-0.76879-0.79000.h5\n",
      "Epoch 34/40\n",
      "42/42 [==============================] - 179s 4s/step - loss: 0.0341 - categorical_accuracy: 0.9966 - val_loss: 0.7830 - val_categorical_accuracy: 0.7900\n",
      "\n",
      "Epoch 00034: saving model to model_init_conv2d_rnn_2018-12-2808_32_25.080593/model-00034-0.02657-0.99849-0.78295-0.79000.h5\n",
      "Epoch 35/40\n",
      "42/42 [==============================] - 180s 4s/step - loss: 0.0432 - categorical_accuracy: 0.9866 - val_loss: 0.8031 - val_categorical_accuracy: 0.7700\n",
      "\n",
      "Epoch 00035: saving model to model_init_conv2d_rnn_2018-12-2808_32_25.080593/model-00035-0.03020-0.99397-0.80308-0.77000.h5\n",
      "\n",
      "Epoch 00035: ReduceLROnPlateau reducing learning rate to 0.001.\n",
      "Epoch 36/40\n",
      "42/42 [==============================] - 180s 4s/step - loss: 0.0623 - categorical_accuracy: 0.9866 - val_loss: 0.7636 - val_categorical_accuracy: 0.8000\n",
      "\n",
      "Epoch 00036: saving model to model_init_conv2d_rnn_2018-12-2808_32_25.080593/model-00036-0.03895-0.99397-0.76364-0.80000.h5\n",
      "Epoch 37/40\n",
      "42/42 [==============================] - 178s 4s/step - loss: 0.0287 - categorical_accuracy: 0.9966 - val_loss: 0.7337 - val_categorical_accuracy: 0.8100\n",
      "\n",
      "Epoch 00037: saving model to model_init_conv2d_rnn_2018-12-2808_32_25.080593/model-00037-0.02344-0.99849-0.73372-0.81000.h5\n",
      "Epoch 38/40\n",
      "42/42 [==============================] - 179s 4s/step - loss: 0.0463 - categorical_accuracy: 0.9933 - val_loss: 0.7462 - val_categorical_accuracy: 0.7800\n",
      "\n",
      "Epoch 00038: saving model to model_init_conv2d_rnn_2018-12-2808_32_25.080593/model-00038-0.03115-0.99698-0.74618-0.78000.h5\n",
      "Epoch 39/40\n",
      "42/42 [==============================] - 178s 4s/step - loss: 0.0441 - categorical_accuracy: 0.9884 - val_loss: 0.8556 - val_categorical_accuracy: 0.7600\n",
      "\n",
      "Epoch 00039: saving model to model_init_conv2d_rnn_2018-12-2808_32_25.080593/model-00039-0.03046-0.99397-0.85559-0.76000.h5\n",
      "Epoch 40/40\n",
      "42/42 [==============================] - 179s 4s/step - loss: 0.0435 - categorical_accuracy: 0.9899 - val_loss: 0.7974 - val_categorical_accuracy: 0.7700\n",
      "\n",
      "Epoch 00040: saving model to model_init_conv2d_rnn_2018-12-2808_32_25.080593/model-00040-0.02969-0.99548-0.79740-0.77000.h5\n",
      "\n",
      "Epoch 00040: ReduceLROnPlateau reducing learning rate to 0.001.\n"
     ]
    }
   ],
   "source": [
    "conv2d_simple_rnn_model = model.fit_generator(train_generator, steps_per_epoch=steps_per_epoch, epochs=num_epochs, verbose=1, \n",
    "                              callbacks=callbacks_list, validation_data=val_generator, \n",
    "                              validation_steps=validation_steps, class_weight=None, workers=1, initial_epoch=0)"
   ]
  },
  {
   "cell_type": "markdown",
   "metadata": {},
   "source": [
    "#### Building graphs #####"
   ]
  },
  {
   "cell_type": "code",
   "execution_count": 14,
   "metadata": {},
   "outputs": [
    {
     "name": "stderr",
     "output_type": "stream",
     "text": [
      "/opt/conda/envs/fastai/lib/python3.6/site-packages/ipykernel_launcher.py:21: DeprecationWarning: `imread` is deprecated!\n",
      "`imread` is deprecated in SciPy 1.0.0, and will be removed in 1.2.0.\n",
      "Use ``imageio.imread`` instead.\n",
      "/opt/conda/envs/fastai/lib/python3.6/site-packages/skimage/transform/_warps.py:105: UserWarning: The default mode, 'constant', will be changed to 'reflect' in skimage 0.15.\n",
      "  warn(\"The default mode, 'constant', will be changed to 'reflect' in \"\n",
      "/opt/conda/envs/fastai/lib/python3.6/site-packages/skimage/transform/_warps.py:110: UserWarning: Anti-aliasing will be enabled by default in skimage 0.15 to avoid aliasing artifacts when down-sampling images.\n",
      "  warn(\"Anti-aliasing will be enabled by default in skimage 0.15 to \"\n"
     ]
    },
    {
     "data": {
      "image/png": "[encoded data removed]",
      "text/plain": [
       "<Figure size 432x288 with 1 Axes>"
      ]
     },
     "metadata": {},
     "output_type": "display_data"
    }
   ],
   "source": [
    "import matplotlib.pyplot as plt\n",
    "plt.plot(conv2d_simple_rnn_model.history[\"categorical_accuracy\"])\n",
    "plt.plot(conv2d_simple_rnn_model.history[\"val_categorical_accuracy\"])\n",
    "plt.xlabel(\"EPOCHS\")\n",
    "plt.ylabel(\"Percentage\")\n",
    "plt.ylim(0.0,1.0)\n",
    "plt.title(\"Conv2D+SimpleRNN Model\")\n",
    "plt.legend([\"Train\",\"Test\"],loc=\"lower right\")\n",
    "plt.show()"
   ]
  },
  {
   "cell_type": "code",
   "execution_count": 15,
   "metadata": {},
   "outputs": [
    {
     "data": {
      "image/png": "[encoded data removed]",
      "text/plain": [
       "<Figure size 432x288 with 1 Axes>"
      ]
     },
     "metadata": {},
     "output_type": "display_data"
    }
   ],
   "source": [
    "plt.plot(conv2d_simple_rnn_model.history[\"loss\"])\n",
    "plt.plot(conv2d_simple_rnn_model.history[\"val_loss\"])\n",
    "plt.xlabel(\"EPOCHS\")\n",
    "plt.ylabel(\"LOSS\")\n",
    "plt.ylim(0.0,3.0)\n",
    "plt.title(\"Conv2D+SimpleRNN Model (LOSS)\")\n",
    "plt.legend([\"Train\",\"Testing\"],loc=\"upper right\")\n",
    "plt.show()"
   ]
  },
  {
   "cell_type": "markdown",
   "metadata": {},
   "source": [
    "#### Checking the EPOCH index where maximum validation accuracy was achieved ####"
   ]
  },
  {
   "cell_type": "code",
   "execution_count": 16,
   "metadata": {},
   "outputs": [
    {
     "name": "stdout",
     "output_type": "stream",
     "text": [
      "Maximum Validation Accuracy = 0.810000 achieved at epoch idx = 28\n"
     ]
    }
   ],
   "source": [
    "print(\"Maximum Validation Accuracy = %f achieved at epoch iteration = %d\" %(np.array(conv2d_simple_rnn_model.history[\"val_categorical_accuracy\"]).max(),np.array(conv2d_simple_rnn_model.history[\"val_categorical_accuracy\"]).argmax() + 1))\n",
    "sel_model_idx = np.array(conv2d_simple_rnn_model.history[\"val_categorical_accuracy\"]).argmax() + 1"
   ]
  },
  {
   "cell_type": "markdown",
   "metadata": {},
   "source": [
    "#### Selecting h5 file for loading model ####"
   ]
  },
  {
   "cell_type": "code",
   "execution_count": 17,
   "metadata": {},
   "outputs": [
    {
     "name": "stdout",
     "output_type": "stream",
     "text": [
      "Selected model name : model_init_conv2d_rnn_2018-12-2808_32_25.080593/model-00028-0.04460-0.99548-0.82870-0.76000.h5\n"
     ]
    }
   ],
   "source": [
    "import os\n",
    "import re\n",
    "search_string = \"model-0*\" + str(sel_model_idx) + \"-[a-z0-9\\-\\.]*\"\n",
    "selected_model_name = model_name + list(filter(lambda x: re.search(search_string,x),os.listdir(model_name)))[0]\n",
    "print(\"Selected model name : %s\" %(selected_model_name))"
   ]
  },
  {
   "cell_type": "markdown",
   "metadata": {},
   "source": [
    "#### Loading model weights from h5 file ####"
   ]
  },
  {
   "cell_type": "code",
   "execution_count": 13,
   "metadata": {},
   "outputs": [],
   "source": [
    "from keras.models import clone_model\n",
    "selected_model = clone_model(model)\n",
    "selected_model.load_weights(selected_model_name)"
   ]
  },
  {
   "cell_type": "markdown",
   "metadata": {},
   "source": [
    "#### Performing prediction on validation data ####"
   ]
  },
  {
   "cell_type": "code",
   "execution_count": 14,
   "metadata": {},
   "outputs": [
    {
     "name": "stdout",
     "output_type": "stream",
     "text": [
      "Source path =  ../../../Project_data/val ; batch size = 16\n"
     ]
    },
    {
     "name": "stderr",
     "output_type": "stream",
     "text": [
      "/opt/conda/envs/fastai/lib/python3.6/site-packages/ipykernel_launcher.py:21: DeprecationWarning: `imread` is deprecated!\n",
      "`imread` is deprecated in SciPy 1.0.0, and will be removed in 1.2.0.\n",
      "Use ``imageio.imread`` instead.\n",
      "/opt/conda/envs/fastai/lib/python3.6/site-packages/skimage/transform/_warps.py:105: UserWarning: The default mode, 'constant', will be changed to 'reflect' in skimage 0.15.\n",
      "  warn(\"The default mode, 'constant', will be changed to 'reflect' in \"\n",
      "/opt/conda/envs/fastai/lib/python3.6/site-packages/skimage/transform/_warps.py:110: UserWarning: Anti-aliasing will be enabled by default in skimage 0.15 to avoid aliasing artifacts when down-sampling images.\n",
      "  warn(\"Anti-aliasing will be enabled by default in skimage 0.15 to \"\n"
     ]
    },
    {
     "name": "stdout",
     "output_type": "stream",
     "text": [
      "16/16 [==============================] - 0s 16ms/step\n",
      "16/16 [==============================] - 0s 1ms/step\n",
      "16/16 [==============================] - 0s 2ms/step\n",
      "16/16 [==============================] - 0s 2ms/step\n",
      "16/16 [==============================] - 0s 2ms/step\n",
      "16/16 [==============================] - 0s 2ms/step\n"
     ]
    },
    {
     "name": "stderr",
     "output_type": "stream",
     "text": [
      "/opt/conda/envs/fastai/lib/python3.6/site-packages/ipykernel_launcher.py:54: DeprecationWarning: `imread` is deprecated!\n",
      "`imread` is deprecated in SciPy 1.0.0, and will be removed in 1.2.0.\n",
      "Use ``imageio.imread`` instead.\n"
     ]
    },
    {
     "name": "stdout",
     "output_type": "stream",
     "text": [
      "4/4 [==============================] - 0s 5ms/step\n"
     ]
    }
   ],
   "source": [
    "testing_val_generator = generator(val_path,\n",
    "                          val_data, \n",
    "                          batch_size=batch_size,\n",
    "                          transform_size=transform_size,\n",
    "                          frame_selection_list=frame_selection_list,\n",
    "                          process_input_func=preprocess_input_func,\n",
    "                          base_model=base_model)\n",
    "result = None\n",
    "for x in range(validation_steps):\n",
    "    x_val,y_val = next(testing_val_generator)\n",
    "    p_val = selected_model.predict(x_val,batch_size=batch_size,verbose=1)\n",
    "    if x == 0:\n",
    "        result = np.vstack((y_val.argmax(axis=1),p_val.argmax(axis=1)))\n",
    "    else:\n",
    "        result = np.hstack((result,np.vstack((y_val.argmax(axis=1),p_val.argmax(axis=1)))))"
   ]
  },
  {
   "cell_type": "markdown",
   "metadata": {},
   "source": [
    "#### Consolidating Results ####"
   ]
  },
  {
   "cell_type": "code",
   "execution_count": 15,
   "metadata": {},
   "outputs": [],
   "source": [
    "result = pd.DataFrame(np.transpose(result),columns=[\"Actual\",\"Predicted\"])"
   ]
  },
  {
   "cell_type": "code",
   "execution_count": 16,
   "metadata": {},
   "outputs": [],
   "source": [
    "from sklearn.metrics import confusion_matrix,classification_report,accuracy_score"
   ]
  },
  {
   "cell_type": "code",
   "execution_count": 17,
   "metadata": {
    "ExecuteTime": {
     "end_time": "2018-12-30T14:03:25.826515Z",
     "start_time": "2018-12-30T14:03:25.808503Z"
    }
   },
   "outputs": [
    {
     "data": {
      "text/html": [
       "<div>\n",
       "<style>\n",
       "    .dataframe thead tr:only-child th {\n",
       "        text-align: right;\n",
       "    }\n",
       "\n",
       "    .dataframe thead th {\n",
       "        text-align: left;\n",
       "    }\n",
       "\n",
       "    .dataframe tbody tr th {\n",
       "        vertical-align: top;\n",
       "    }\n",
       "</style>\n",
       "<table border=\"1\" class=\"dataframe\">\n",
       "  <thead>\n",
       "    <tr style=\"text-align: right;\">\n",
       "      <th></th>\n",
       "      <th>Predicted_Left</th>\n",
       "      <th>Predicted_Right</th>\n",
       "      <th>Predicted_Stop</th>\n",
       "      <th>Predicted_Down</th>\n",
       "      <th>Predicted_Up</th>\n",
       "    </tr>\n",
       "  </thead>\n",
       "  <tbody>\n",
       "    <tr>\n",
       "      <th>Actual_Left</th>\n",
       "      <td>10</td>\n",
       "      <td>6</td>\n",
       "      <td>2</td>\n",
       "      <td>0</td>\n",
       "      <td>0</td>\n",
       "    </tr>\n",
       "    <tr>\n",
       "      <th>Actual_Right</th>\n",
       "      <td>5</td>\n",
       "      <td>17</td>\n",
       "      <td>0</td>\n",
       "      <td>1</td>\n",
       "      <td>0</td>\n",
       "    </tr>\n",
       "    <tr>\n",
       "      <th>Actual_Stop</th>\n",
       "      <td>1</td>\n",
       "      <td>0</td>\n",
       "      <td>20</td>\n",
       "      <td>0</td>\n",
       "      <td>1</td>\n",
       "    </tr>\n",
       "    <tr>\n",
       "      <th>Actual_Down</th>\n",
       "      <td>0</td>\n",
       "      <td>0</td>\n",
       "      <td>0</td>\n",
       "      <td>21</td>\n",
       "      <td>0</td>\n",
       "    </tr>\n",
       "    <tr>\n",
       "      <th>Actual_Up</th>\n",
       "      <td>0</td>\n",
       "      <td>0</td>\n",
       "      <td>5</td>\n",
       "      <td>0</td>\n",
       "      <td>11</td>\n",
       "    </tr>\n",
       "  </tbody>\n",
       "</table>\n",
       "</div>"
      ],
      "text/plain": [
       "              Predicted_Left  Predicted_Right  Predicted_Stop  Predicted_Down  \\\n",
       "Actual_Left               10                6               2               0   \n",
       "Actual_Right               5               17               0               1   \n",
       "Actual_Stop                1                0              20               0   \n",
       "Actual_Down                0                0               0              21   \n",
       "Actual_Up                  0                0               5               0   \n",
       "\n",
       "              Predicted_Up  \n",
       "Actual_Left              0  \n",
       "Actual_Right             0  \n",
       "Actual_Stop              1  \n",
       "Actual_Down              0  \n",
       "Actual_Up               11  "
      ]
     },
     "execution_count": 17,
     "metadata": {},
     "output_type": "execute_result"
    }
   ],
   "source": [
    "cf_np = confusion_matrix(result.Actual,result.Predicted,labels=range(0,5))\n",
    "cf_df = pd.DataFrame(cf_np,columns=[\"Predicted_\" + str(x) for x in [\"Left\",\"Right\",\"Stop\",\"Down\",\"Up\"]],index=[\"Actual_\" + str(x) for x in [\"Left\",\"Right\",\"Stop\",\"Down\",\"Up\"]])\n",
    "cf_df"
   ]
  },
  {
   "cell_type": "code",
   "execution_count": 20,
   "metadata": {},
   "outputs": [
    {
     "name": "stdout",
     "output_type": "stream",
     "text": [
      "Cummalative General Accuracy Score : 0.790000\n",
      "Cummalative Categorical Accuracy : 0.810000\n"
     ]
    }
   ],
   "source": [
    "print(\"Cummalative General Accuracy Score : %f\" %(accuracy_score(result.Actual,result.Predicted)))\n",
    "print(\"Cummalative Categorical Accuracy : %f\" %(0.8100))"
   ]
  }
 ],
 "metadata": {
  "kernelspec": {
   "display_name": "Python 3",
   "language": "python",
   "name": "python3"
  },
  "language_info": {
   "codemirror_mode": {
    "name": "ipython",
    "version": 3
   },
   "file_extension": ".py",
   "mimetype": "text/x-python",
   "name": "python",
   "nbconvert_exporter": "python",
   "pygments_lexer": "ipython3",
   "version": "3.6.0"
  }
 },
 "nbformat": 4,
 "nbformat_minor": 2
}
