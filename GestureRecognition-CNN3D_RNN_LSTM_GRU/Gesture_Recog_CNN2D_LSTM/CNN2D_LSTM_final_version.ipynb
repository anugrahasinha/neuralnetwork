{
 "cells": [
  {
   "cell_type": "markdown",
   "metadata": {
    "_uuid": "843a853a75c0d84044dc32591f0451d67c7386cc"
   },
   "source": [
    "# Gesture Recognition (Using Conv2D + LSTM technique)\n",
    "\n",
    "*Author : Anugraha Sinha*\n",
    "\n",
    "*Email : anugraha[dot]sinha[at]gmail[dot]com*\n",
    "\n",
    "In this case, we will be using a CNN2D + GRU (Gated Recurrent Unit) Neural Network for evaluating geatures in videos. \n",
    "The data provided as following features\n",
    "1. 30 Video frames in each video\n",
    "2. Each frame - 3 Channel (RGB)\n",
    "3. 5 kinds of gestures (Up, Down, Right, Left, Stop)\n",
    "\n",
    "The objective is to be fullfilled for a hypothetical Smart TV company which is trying to incorporate geature recognition in its product where in the gestures mean following things\n",
    "\n",
    "Gesture   |       Left       |    Right    |    Stop      |    Down     |     Up\n",
    "----------| -----------------|-------------|--------------|-------------|-----------\n",
    "Objectives| Previous Channel | Next Channel| Stop Playing | Volume Down | Volume Up\n",
    "Y Value (Integer) | 0 | 1 | 2 | 3 | 4 "
   ]
  },
  {
   "cell_type": "markdown",
   "metadata": {
    "_uuid": "8f6234a0b348a4b7ec0b06b2a81e7d33697455bd"
   },
   "source": [
    "#### Library Imports ####"
   ]
  },
  {
   "cell_type": "code",
   "execution_count": 1,
   "metadata": {
    "ExecuteTime": {
     "end_time": "2018-12-24T10:02:45.291268Z",
     "start_time": "2018-12-24T10:02:16.166997Z"
    },
    "_uuid": "6f394d53a91d25a807c26ccc6b3cc19868c88980"
   },
   "outputs": [],
   "source": [
    "import numpy as np\n",
    "import os\n",
    "from scipy.misc import imread, imresize\n",
    "import datetime\n",
    "import os\n",
    "import pandas as pd\n",
    "import matplotlib.pyplot as plt"
   ]
  },
  {
   "cell_type": "markdown",
   "metadata": {
    "_uuid": "566527b4b778d6cf1980de78012904301c1cc198"
   },
   "source": [
    "##### We set the random seed so that the results don't vary drastically.#####"
   ]
  },
  {
   "cell_type": "code",
   "execution_count": 2,
   "metadata": {
    "ExecuteTime": {
     "end_time": "2018-12-24T10:03:12.325679Z",
     "start_time": "2018-12-24T10:02:45.295206Z"
    },
    "_uuid": "408cf95f119af2a2f232af2c079fd77f19d5cb5b"
   },
   "outputs": [
    {
     "name": "stderr",
     "output_type": "stream",
     "text": [
      "Using TensorFlow backend.\n"
     ]
    }
   ],
   "source": [
    "np.random.seed(30)\n",
    "import random as rn\n",
    "rn.seed(30)\n",
    "from keras import backend as K\n",
    "import tensorflow as tf\n",
    "tf.set_random_seed(30)"
   ]
  },
  {
   "cell_type": "markdown",
   "metadata": {
    "_uuid": "d39a9875807a84a724594cedc2ca430494ed5a43"
   },
   "source": [
    "##### We set the train_doc and val_doc location #####\n",
    "*Note : Please set this location as per your environment.*"
   ]
  },
  {
   "cell_type": "code",
   "execution_count": 3,
   "metadata": {
    "ExecuteTime": {
     "end_time": "2018-12-24T10:03:12.439253Z",
     "start_time": "2018-12-24T10:03:12.328631Z"
    },
    "_uuid": "6576b99114c81c01d98f2597a55f059c35608e7e"
   },
   "outputs": [],
   "source": [
    "train_doc = np.random.permutation(open('../input/data/Project_data/train.csv').readlines())\n",
    "val_doc = np.random.permutation(open('../input/data/Project_data/val.csv').readlines())"
   ]
  },
  {
   "cell_type": "markdown",
   "metadata": {
    "_uuid": "b64b6929587967c0ac1667443de90e4768773a7e"
   },
   "source": [
    "#### Image Processor ####\n",
    "The objective of this function is:\n",
    "Resize the images as per *transform_size* given by user, or take it as (120,120)\n",
    "\n",
    "**Reason**\n",
    "\n",
    "In the training data we have 2 types of video, where video frame sizes are as *(360,360)* and *(160,120)* Therefore to keep things consistent, we build a image processor which perform cropping of the image.\n",
    "\n",
    "**Note**\n",
    "\n",
    "Cropping is done as a centered image, i.e., we take the center as the reference and crop the images from both sides. For (360,360) we can use skimage.transform.resize function. However, for *(160,120)* we will have to some manual processing to crop images by the center."
   ]
  },
  {
   "cell_type": "code",
   "execution_count": 4,
   "metadata": {
    "ExecuteTime": {
     "end_time": "2018-12-24T10:03:24.517873Z",
     "start_time": "2018-12-24T10:03:12.444250Z"
    },
    "_uuid": "71fa5f175060fd0291e2709f91a7ded7e9f8dc0f"
   },
   "outputs": [],
   "source": [
    "from skimage.transform import resize\n",
    "def image_processor(orig_image,transform_size=(120,120)):\n",
    "    # If we have an image of (360,360,3) then we use resize function.\n",
    "    # If we have an image of \n",
    "    new_image = orig_image\n",
    "    if orig_image.shape == (360,360,3):\n",
    "        new_image = resize(orig_image,transform_size)\n",
    "    else:\n",
    "        start_row = (orig_image.shape[0] - transform_size[0])//2\n",
    "        end_row = start_row + transform_size[0]\n",
    "        \n",
    "        start_col = (orig_image.shape[1] - transform_size[1])//2\n",
    "        end_col = start_col + transform_size[1]\n",
    "        new_image = orig_image[start_row:end_row,start_col:end_col,:]\n",
    "    #new_image = resize(orig_image,transform_size)\n",
    "    return(new_image)"
   ]
  },
  {
   "cell_type": "markdown",
   "metadata": {
    "_uuid": "9564495fc61e44afa20d6c28125763f842c17db1"
   },
   "source": [
    "#### Sequence Generator ####\n",
    "This function provides a list of frame sequences we would like to use training\n",
    "\n",
    "Arguments\n",
    "\n",
    "a) choiceoflist\n",
    "\n",
    "\n",
    "choicelist | 0 | 1 | 2\n",
    "-----------|---|---|---\n",
    "Return list type | range(0,30,1) | range(0,30,2) | [0,1,2,3,4,5,6,9,12,15,18,21,24,25,26,27,28,29]"
   ]
  },
  {
   "cell_type": "code",
   "execution_count": 5,
   "metadata": {
    "_uuid": "602daa25389460d1da1c4333799dd58d875bdbfb"
   },
   "outputs": [],
   "source": [
    "def getframeselectionlist(choiceoflist=0):\n",
    "    if choiceoflist==0:\n",
    "        return [frame for frame in range(0,30,1)] # Returns 100% of frames, number of frames=30\n",
    "    elif choiceoflist==1:\n",
    "        return [frame for frame in range(0,30,2)] # returns 50% of frames, number of frames=15\n",
    "    elif choiceoflist==2:\n",
    "        \n",
    "        # For this we are taking first 5 frame+skip frame sequence+last 5 frame of the sequence\n",
    "        \n",
    "        frame_sequence=[]\n",
    "        \n",
    "        startframesequence=[0,1,2,3,4,5]\n",
    "        endframesequence=[25,26,27,28,29]\n",
    "        skip_sequence=3  #\n",
    "        middleframesequnce=[k for k in range(6,25,skip_sequence)]\n",
    "        \n",
    "        frame_sequence.extend(startframesequence)\n",
    "        frame_sequence.extend(middleframesequnce)\n",
    "        frame_sequence.extend(endframesequence)\n",
    "        \n",
    "        return frame_sequence"
   ]
  },
  {
   "cell_type": "markdown",
   "metadata": {
    "_uuid": "f2b79c140a0d06a07999494a5c2cf89224073c44"
   },
   "source": [
    "### Generator ###\n",
    "This is heart of complete training process. It pumps batched data to network during learning and prediction both. The function description is given below\n",
    "\n",
    "**Arguments**\n",
    "\n",
    "1. Source Path - Directory path to be considered for reading video/images frames\n",
    "2. folder_list - Lines from the train_doc we read above.\n",
    "3. batch_size - The batch_size we want to select.\n",
    "4. transform_size - The image transformation size we  (Default - (120,120)\n",
    "5. frame_selection_list - frame_list obtained from frame_generator (Default - range(30))\n",
    "6. process_input_func - To be provided in case CNN2D+RNN type modelling being done\n",
    "7. base_model - To be provided in case CNN2D+RNN type modelling being done.\n",
    "\n",
    "**Working**\n",
    "* Case when CNN3D modelling being done\n",
    "\n",
    "In this case, for each batch (according to batch size), we build \n",
    "\n",
    "1. **batch_data** = *(batch_size, number_of_frames,image_size_x,image_size_y,n_channels)*\n",
    "2. We normalize each channel (RGB) by dividing the pixel value with 255.\n",
    "\n",
    "\n",
    "* Case when CNN2D+RNN modelling being done (RNN can be any of SimpleRNN/LSTM/GRU)\n",
    "\n",
    "In this case, for each batch (according to batch size), we build\n",
    "\n",
    "1. **batch_data** = *(batch_size, number_of_frames,image_size_x,image_size_y,n_channels)*\n",
    "2. reshape batch data as **batch_data.reshape(batch_size * number_of_frames , image_size_x , image_size_y , n_channels)**.\n",
    "3. Above reshaped numpy array is sent to *process_input_func* of the pre-learned CNN2D function. This will produce modified image vector as per pre-learned CNN2D function (like VGG19/VGG16/etc.)\n",
    "4. After *process_input_func* we reshape again to *(batch_size, number_of_frames, outputs from CNN2D vector)*"
   ]
  },
  {
   "cell_type": "code",
   "execution_count": 6,
   "metadata": {
    "ExecuteTime": {
     "end_time": "2018-12-24T10:03:24.551099Z",
     "start_time": "2018-12-24T10:03:24.517873Z"
    },
    "_uuid": "82cc91d7e0a8bd6b7a2bf54aa9264365e900af69"
   },
   "outputs": [],
   "source": [
    "def generator(source_path,\n",
    "              folder_list,\n",
    "              batch_size,\n",
    "              transform_size = (120,120),\n",
    "              frame_selection_list = range(30),\n",
    "              process_input_func=None,\n",
    "              base_model = None):\n",
    "    print( 'Source path = ', source_path, '; batch size =', batch_size)\n",
    "    img_idx = frame_selection_list\n",
    "    channels = 3\n",
    "    while True:\n",
    "        t = np.random.permutation(folder_list)\n",
    "        num_batches = int(len(t) / batch_size) if len(t) % batch_size == 0 else (len(t) // batch_size)\n",
    "        for batch in range(num_batches): # we iterate over the number of batches\n",
    "            batch_data = np.zeros((batch_size,len(frame_selection_list),transform_size[0],transform_size[1],channels)) # x is the number of images you use for each video, (y,z) is the final size of the input images and 3 is the number of channels RGB\n",
    "            batch_labels = np.zeros((batch_size,5)) # batch_labels is the one hot representation of the output\n",
    "            for folder in range(batch_size): # iterate over the batch_size\n",
    "                imgs = os.listdir(source_path+'/'+ t[folder + (batch*batch_size)].split(';')[0]) # read all the images in the folder\n",
    "                #print(t[folder + (batch*batch_size)].split(';')[0])\n",
    "                for idx,item in enumerate(img_idx): #  Iterate iver the frames/images of a folder to read them in\n",
    "                    image = imread(source_path+'/'+ t[folder + (batch*batch_size)].strip().split(';')[0]+'/'+imgs[item]).astype(np.float64)\n",
    "                    #crop the images and resize them. Note that the images are of 2 different shape \n",
    "                    #and the conv3D will throw error if the inputs in a batch have different shapes\n",
    "                    image = image_processor(image,transform_size)\n",
    "                    if base_model:\n",
    "                        # This is when we are using a pre-learned CNN2D network\n",
    "                        image = process_input_func(image)\n",
    "                        \n",
    "                    else:\n",
    "                        # This is when we are building a Conv3D network\n",
    "                        image = image/255\n",
    "\n",
    "                    batch_data[folder,idx,:,:,0] = image[:,:,0]\n",
    "                    batch_data[folder,idx,:,:,1] = image[:,:,1]\n",
    "                    batch_data[folder,idx,:,:,2] = image[:,:,2]\n",
    "                    \n",
    "                batch_labels[folder, int(t[folder + (batch*batch_size)].strip().split(';')[2])] = 1\n",
    "            if base_model:\n",
    "                s1 = batch_data.shape\n",
    "                n1 = base_model.predict(batch_data.reshape(s1[0]*s1[1],s1[2],s1[3],s1[4]))\n",
    "                s2 = n1.shape\n",
    "                batch_data = n1.reshape(s1[0],s1[1],s2[1]*s2[2]*s2[3])\n",
    "            yield batch_data, batch_labels #you yield the batch_data and the batch_labels, remember what does yield do\n",
    "        \n",
    "        # write the code for the remaining data points which are left after full batches\n",
    "        # remaining data #\n",
    "        if len(t) % batch_size != 0:                                      # Execute only if, we need to\n",
    "            batch_data = np.zeros((len(t) % batch_size,len(frame_selection_list),transform_size[0],transform_size[1],channels))     # fix the last batch size\n",
    "            batch_labels = np.zeros((len(t) % batch_size,5))              # Similarly, for labels\n",
    "            for v_idx,folder in enumerate(t[(num_batches*batch_size):]):\n",
    "                #print(folder.split(';')[0])\n",
    "                imgs = os.listdir(source_path+\"/\"+folder.split(';')[0])\n",
    "                for idx, item in enumerate(img_idx):\n",
    "                    image = imread(source_path+'/'+folder.split(';')[0]+\"/\"+imgs[item]).astype(np.float64)\n",
    "                    image = image_processor(image,transform_size)\n",
    "\n",
    "                    if base_model:\n",
    "                        # This is when we are using a pre-learned CNN2D network\n",
    "                        image = process_input_func(image)\n",
    "                    else:\n",
    "                        # This is when we are building a Conv3D network\n",
    "                        image = image/255\n",
    "\n",
    "                    batch_data[v_idx,idx,:,:,0] = image[:,:,0]\n",
    "                    batch_data[v_idx,idx,:,:,1] = image[:,:,1]\n",
    "                    batch_data[v_idx,idx,:,:,0] = image[:,:,2]\n",
    "                batch_labels[v_idx,int(folder.split(\";\")[2])] = 1\n",
    "            if base_model:\n",
    "                s1 = batch_data.shape\n",
    "                n1 = base_model.predict(batch_data.reshape(s1[0]*s1[1],s1[2],s1[3],s1[4]))\n",
    "                s2 = n1.shape\n",
    "                batch_data = n1.reshape(s1[0],s1[1],s2[1]*s2[2]*s2[3])\n",
    "            yield batch_data,batch_labels"
   ]
  },
  {
   "cell_type": "markdown",
   "metadata": {
    "_uuid": "42780b408d82023d7608c52b06e9dc0eb60f827c"
   },
   "source": [
    "Recording *current_date-time* and fixing training data and validation data folder paths."
   ]
  },
  {
   "cell_type": "code",
   "execution_count": 7,
   "metadata": {
    "ExecuteTime": {
     "end_time": "2018-12-24T10:03:24.621378Z",
     "start_time": "2018-12-24T10:03:24.554098Z"
    },
    "_uuid": "109b421d3b5b9ebffed2a5f7fb9265142d64c92e"
   },
   "outputs": [],
   "source": [
    "curr_dt_time = datetime.datetime.now()\n",
    "train_path = '../input/data/Project_data/train'\n",
    "val_path = '../input/data/Project_data/val'"
   ]
  },
  {
   "cell_type": "markdown",
   "metadata": {
    "_uuid": "f6fa3f1bb86ec4b8aef3ba071eb524b0018becf0"
   },
   "source": [
    "## Model\n",
    "Setting up base information for model building process.\n",
    "\n",
    "*IMPORTANT*\n",
    "We are using VGG19 pre-trained model for CONV2D modelling.\n",
    "\n",
    "If this code is CONV3D, then even though we are building the *base_model* and *preprocess_input_func* variables, but we will not use them further in the code.\n",
    "\n",
    "If this code is CONV2D+RNN type modelling, then we will use *base_model* and *preprocess_input_func* variables further in the code."
   ]
  },
  {
   "cell_type": "code",
   "execution_count": 8,
   "metadata": {
    "ExecuteTime": {
     "end_time": "2018-12-24T10:06:14.246527Z",
     "start_time": "2018-12-24T10:06:14.241521Z"
    },
    "_uuid": "3f75d9794ae2641403c78e1e44c6339f5e1873f0"
   },
   "outputs": [
    {
     "name": "stdout",
     "output_type": "stream",
     "text": [
      "Downloading data from https://github.com/fchollet/deep-learning-models/releases/download/v0.1/vgg19_weights_tf_dim_ordering_tf_kernels_notop.h5\n",
      "80142336/80134624 [==============================] - 1s 0us/step\n"
     ]
    }
   ],
   "source": [
    "train_data = train_doc\n",
    "val_data = val_doc\n",
    "transform_size = (120,120)\n",
    "batch_size = 16\n",
    "num_epochs = 40\n",
    "frame_selection_list = getframeselectionlist(choiceoflist=0)\n",
    "num_train_sequences = len(train_data)\n",
    "num_val_sequences = len(val_data)\n",
    "model_name = \"model_init_conv2d_lstm\"\n",
    "\n",
    "from keras.applications.vgg19 import VGG19 as base_conv2d_model\n",
    "from keras.applications.vgg19 import preprocess_input\n",
    "\n",
    "base_model = base_conv2d_model(weights=\"imagenet\",include_top=False)\n",
    "preprocess_input_func = preprocess_input\n",
    "\n",
    "os.environ.putenv(\"HDF5_USE_FILE_LOCKING\",\"FALSE\")"
   ]
  },
  {
   "cell_type": "markdown",
   "metadata": {
    "_uuid": "c36a9290f82dd9464886772d53e9f5dd44354233"
   },
   "source": [
    "#### Building Neural Network Model Architecture ####"
   ]
  },
  {
   "cell_type": "code",
   "execution_count": 9,
   "metadata": {
    "_uuid": "a3f82555137fd2a210dca2881d216911565fd0fa"
   },
   "outputs": [
    {
     "name": "stdout",
     "output_type": "stream",
     "text": [
      "Source path =  ../input/data/Project_data/train ; batch size = 16\n"
     ]
    },
    {
     "name": "stderr",
     "output_type": "stream",
     "text": [
      "/opt/conda/lib/python3.6/site-packages/ipykernel_launcher.py:21: DeprecationWarning: `imread` is deprecated!\n",
      "`imread` is deprecated in SciPy 1.0.0, and will be removed in 1.2.0.\n",
      "Use ``imageio.imread`` instead.\n",
      "/opt/conda/lib/python3.6/site-packages/skimage/transform/_warps.py:84: UserWarning: The default mode, 'constant', will be changed to 'reflect' in skimage 0.15.\n",
      "  warn(\"The default mode, 'constant', will be changed to 'reflect' in \"\n"
     ]
    },
    {
     "name": "stdout",
     "output_type": "stream",
     "text": [
      "Input shape = (16, 30, 4608)\n"
     ]
    }
   ],
   "source": [
    "from keras.models import Sequential, Model\n",
    "from keras.layers import Dense, GRU, Flatten, TimeDistributed, Flatten, BatchNormalization, Activation, Dropout, Bidirectional, SimpleRNN, LSTM, GRU\n",
    "from keras.layers.convolutional import Conv3D, MaxPooling3D\n",
    "from keras.callbacks import ModelCheckpoint, ReduceLROnPlateau\n",
    "from keras import optimizers\n",
    "from keras.regularizers import l2\n",
    "\n",
    "input_sample = next(generator(train_path,\n",
    "                              train_data, \n",
    "                              batch_size=batch_size,\n",
    "                              transform_size=transform_size,\n",
    "                              frame_selection_list=frame_selection_list,\n",
    "                              process_input_func=preprocess_input_func,\n",
    "                              base_model=base_model))\n",
    "print(\"Input shape = %s\" %(str(input_sample[0].shape)))\n",
    "model = Sequential()\n",
    "model.add(LSTM(64,\n",
    "              input_shape=(input_sample[0].shape[1],input_sample[0].shape[2]),\n",
    "              dropout=0.5))\n",
    "\n",
    "model.add(Dense(input_sample[1].shape[1], activation='softmax'))"
   ]
  },
  {
   "cell_type": "markdown",
   "metadata": {
    "_uuid": "f67c11894be704ea008c8eba6967762d829ff694"
   },
   "source": [
    "#### Setting up Neural Network configurations ####\n",
    "\n",
    "Optimizers\n",
    "loss function and metrics to be monitored.\n",
    "\n",
    "Watch out for model summary for verifications."
   ]
  },
  {
   "cell_type": "code",
   "execution_count": 10,
   "metadata": {
    "_uuid": "cfe23bcc9041c56c0693bef2d8aade7e4b15c4ab"
   },
   "outputs": [
    {
     "name": "stdout",
     "output_type": "stream",
     "text": [
      "_________________________________________________________________\n",
      "Layer (type)                 Output Shape              Param #   \n",
      "=================================================================\n",
      "lstm_1 (LSTM)                (None, 64)                1196288   \n",
      "_________________________________________________________________\n",
      "dense_1 (Dense)              (None, 5)                 325       \n",
      "=================================================================\n",
      "Total params: 1,196,613\n",
      "Trainable params: 1,196,613\n",
      "Non-trainable params: 0\n",
      "_________________________________________________________________\n",
      "None\n"
     ]
    }
   ],
   "source": [
    "optimizer = optimizers.SGD(lr=0.01)\n",
    "model.compile(optimizer=optimizer, loss='categorical_crossentropy', metrics=['categorical_accuracy'])\n",
    "print (model.summary())"
   ]
  },
  {
   "cell_type": "markdown",
   "metadata": {
    "_uuid": "3b59bd91aed4e81b80c0992337127cc61a917583"
   },
   "source": [
    "#### Building up generator objects ####\n",
    "\n",
    "train_generator for training data\n",
    "\n",
    "val_generator for validation data"
   ]
  },
  {
   "cell_type": "code",
   "execution_count": 11,
   "metadata": {
    "ExecuteTime": {
     "end_time": "2018-12-24T10:05:22.311781Z",
     "start_time": "2018-12-24T10:05:22.306781Z"
    },
    "_uuid": "5d022d330951dd6e82be9d3d441643653be389d4"
   },
   "outputs": [],
   "source": [
    "train_generator = generator(train_path,\n",
    "                            train_data, \n",
    "                            batch_size=batch_size,\n",
    "                            transform_size=transform_size,\n",
    "                            frame_selection_list=frame_selection_list,\n",
    "                            process_input_func=preprocess_input_func,\n",
    "                            base_model=base_model)\n",
    "val_generator = generator(val_path,\n",
    "                          val_data, \n",
    "                          batch_size=batch_size,\n",
    "                          transform_size=transform_size,\n",
    "                          frame_selection_list=frame_selection_list,\n",
    "                          process_input_func=preprocess_input_func,\n",
    "                          base_model=base_model)"
   ]
  },
  {
   "cell_type": "markdown",
   "metadata": {
    "_uuid": "a80a157cc3eba05229e078c928d4ee9010c84de2"
   },
   "source": [
    "#### Setting up extra parameter for Neural Network ####\n",
    "\n",
    "* ModelCheckPoint\n",
    "\n",
    "We build modelcheckpoint to save models after every epoch, so that we can refer to models to best model later on for final testing.\n",
    "* ReduceLROnPlateau\n",
    "\n",
    "If the **val_loss** value stops improving after **patience** number of epochs, we reduce the learning rate so as to take smaller steps down the gradient route for raeaching global minimum and avoid getting stuch at local minimum."
   ]
  },
  {
   "cell_type": "code",
   "execution_count": 12,
   "metadata": {
    "ExecuteTime": {
     "end_time": "2018-12-24T10:05:28.669954Z",
     "start_time": "2018-12-24T10:05:28.660949Z"
    },
    "_uuid": "4f36e536d224ba57ebcf80effb975c97dfca2218"
   },
   "outputs": [
    {
     "name": "stdout",
     "output_type": "stream",
     "text": [
      "model_init_conv2d_lstm_2018-12-3003_00_58.183252/\n"
     ]
    }
   ],
   "source": [
    "model_name = model_name + '_' + str(curr_dt_time).replace(' ','').replace(':','_') + '/'\n",
    "    \n",
    "if not os.path.exists(model_name):\n",
    "    os.mkdir(model_name)\n",
    "        \n",
    "filepath = model_name + 'model-{epoch:05d}-{loss:.5f}-{categorical_accuracy:.5f}-{val_loss:.5f}-{val_categorical_accuracy:.5f}.h5'\n",
    "\n",
    "checkpoint = ModelCheckpoint(filepath, monitor='val_loss', verbose=1, save_best_only=False, save_weights_only=False, mode='auto', period=1)\n",
    "\n",
    "LR = ReduceLROnPlateau(monitor='val_loss', factor=0.2,\n",
    "                       patience=5, min_lr=0.001,verbose=1)\n",
    "\n",
    "callbacks_list = [checkpoint, LR]\n",
    "#callbacks_list = [checkpoint]\n",
    "#callbacks_list = []\n",
    "print(model_name)"
   ]
  },
  {
   "cell_type": "markdown",
   "metadata": {
    "_uuid": "c730c915920a8aa86f568dbec6eebe2c894850dc"
   },
   "source": [
    "The `steps_per_epoch` and `validation_steps` are used by `fit_generator` to decide the number of next() calls it need to make."
   ]
  },
  {
   "cell_type": "code",
   "execution_count": 13,
   "metadata": {
    "ExecuteTime": {
     "end_time": "2018-12-24T10:06:22.943538Z",
     "start_time": "2018-12-24T10:06:22.938534Z"
    },
    "_uuid": "3255cc9a0b14551dff24b222520656658c4a523e"
   },
   "outputs": [],
   "source": [
    "if (num_train_sequences%batch_size) == 0:\n",
    "    steps_per_epoch = int(num_train_sequences/batch_size)\n",
    "else:\n",
    "    steps_per_epoch = (num_train_sequences//batch_size) + 1\n",
    "\n",
    "if (num_val_sequences%batch_size) == 0:\n",
    "    validation_steps = int(num_val_sequences/batch_size)\n",
    "else:\n",
    "    validation_steps = (num_val_sequences//batch_size) + 1"
   ]
  },
  {
   "cell_type": "markdown",
   "metadata": {
    "_uuid": "94b744648fb6eac5eb43185d25b489bd21aa564e"
   },
   "source": [
    "Let us now fit the model. This will start training the model and with the help of the checkpoints, you'll be able to save the model at the end of each epoch."
   ]
  },
  {
   "cell_type": "code",
   "execution_count": 14,
   "metadata": {
    "ExecuteTime": {
     "end_time": "2018-12-24T09:33:39.785760Z",
     "start_time": "2018-12-24T09:33:24.008419Z"
    },
    "_uuid": "fc5f4eb739eb90d2eca8c5b1d5078652dd6c3b69"
   },
   "outputs": [
    {
     "name": "stdout",
     "output_type": "stream",
     "text": [
      "Epoch 1/40\n",
      "Source path =  ../input/data/Project_data/train ; batch size = 16\n",
      "Source path =  ../input/data/Project_data/val ; batch size = 16\n"
     ]
    },
    {
     "name": "stderr",
     "output_type": "stream",
     "text": [
      "/opt/conda/lib/python3.6/site-packages/ipykernel_launcher.py:21: DeprecationWarning: `imread` is deprecated!\n",
      "`imread` is deprecated in SciPy 1.0.0, and will be removed in 1.2.0.\n",
      "Use ``imageio.imread`` instead.\n",
      "/opt/conda/lib/python3.6/site-packages/skimage/transform/_warps.py:84: UserWarning: The default mode, 'constant', will be changed to 'reflect' in skimage 0.15.\n",
      "  warn(\"The default mode, 'constant', will be changed to 'reflect' in \"\n"
     ]
    },
    {
     "name": "stdout",
     "output_type": "stream",
     "text": [
      " 7/42 [====>.........................] - ETA: 3:59 - loss: 1.7235 - categorical_accuracy: 0.2679"
     ]
    },
    {
     "name": "stderr",
     "output_type": "stream",
     "text": [
      "/opt/conda/lib/python3.6/site-packages/ipykernel_launcher.py:54: DeprecationWarning: `imread` is deprecated!\n",
      "`imread` is deprecated in SciPy 1.0.0, and will be removed in 1.2.0.\n",
      "Use ``imageio.imread`` instead.\n"
     ]
    },
    {
     "name": "stdout",
     "output_type": "stream",
     "text": [
      "42/42 [==============================] - 208s 5s/step - loss: 1.6383 - categorical_accuracy: 0.2657 - val_loss: 1.3852 - val_categorical_accuracy: 0.4400\n",
      "\n",
      "Epoch 00001: saving model to model_init_conv2d_lstm_2018-12-3003_00_58.183252/model-00001-1.64014-0.26546-1.38520-0.44000.h5\n",
      "Epoch 2/40\n",
      "42/42 [==============================] - 181s 4s/step - loss: 1.4253 - categorical_accuracy: 0.4027 - val_loss: 1.3144 - val_categorical_accuracy: 0.4500\n",
      "\n",
      "Epoch 00002: saving model to model_init_conv2d_lstm_2018-12-3003_00_58.183252/model-00002-1.42577-0.40422-1.31438-0.45000.h5\n",
      "Epoch 3/40\n",
      "42/42 [==============================] - 182s 4s/step - loss: 1.2899 - categorical_accuracy: 0.4634 - val_loss: 1.2529 - val_categorical_accuracy: 0.5000\n",
      "\n",
      "Epoch 00003: saving model to model_init_conv2d_lstm_2018-12-3003_00_58.183252/model-00003-1.29217-0.46003-1.25290-0.50000.h5\n",
      "Epoch 4/40\n",
      "42/42 [==============================] - 180s 4s/step - loss: 1.1972 - categorical_accuracy: 0.5322 - val_loss: 1.1361 - val_categorical_accuracy: 0.5600\n",
      "\n",
      "Epoch 00004: saving model to model_init_conv2d_lstm_2018-12-3003_00_58.183252/model-00004-1.19116-0.53544-1.13607-0.56000.h5\n",
      "Epoch 5/40\n",
      "42/42 [==============================] - 185s 4s/step - loss: 1.1482 - categorical_accuracy: 0.5657 - val_loss: 1.1389 - val_categorical_accuracy: 0.5800\n",
      "\n",
      "Epoch 00005: saving model to model_init_conv2d_lstm_2018-12-3003_00_58.183252/model-00005-1.14632-0.56561-1.13893-0.58000.h5\n",
      "Epoch 6/40\n",
      "42/42 [==============================] - 182s 4s/step - loss: 1.0935 - categorical_accuracy: 0.5817 - val_loss: 1.0650 - val_categorical_accuracy: 0.5400\n",
      "\n",
      "Epoch 00006: saving model to model_init_conv2d_lstm_2018-12-3003_00_58.183252/model-00006-1.09243-0.58371-1.06500-0.54000.h5\n",
      "Epoch 7/40\n",
      "42/42 [==============================] - 182s 4s/step - loss: 1.0434 - categorical_accuracy: 0.6282 - val_loss: 1.0134 - val_categorical_accuracy: 0.5500\n",
      "\n",
      "Epoch 00007: saving model to model_init_conv2d_lstm_2018-12-3003_00_58.183252/model-00007-1.04245-0.62896-1.01338-0.55000.h5\n",
      "Epoch 8/40\n",
      "42/42 [==============================] - 180s 4s/step - loss: 1.0011 - categorical_accuracy: 0.6446 - val_loss: 0.9827 - val_categorical_accuracy: 0.7200\n",
      "\n",
      "Epoch 00008: saving model to model_init_conv2d_lstm_2018-12-3003_00_58.183252/model-00008-0.99697-0.64555-0.98270-0.72000.h5\n",
      "Epoch 9/40\n",
      "42/42 [==============================] - 183s 4s/step - loss: 0.9403 - categorical_accuracy: 0.6807 - val_loss: 0.9503 - val_categorical_accuracy: 0.6300\n",
      "\n",
      "Epoch 00009: saving model to model_init_conv2d_lstm_2018-12-3003_00_58.183252/model-00009-0.93941-0.68024-0.95030-0.63000.h5\n",
      "Epoch 10/40\n",
      "42/42 [==============================] - 183s 4s/step - loss: 0.9202 - categorical_accuracy: 0.6628 - val_loss: 0.8807 - val_categorical_accuracy: 0.7100\n",
      "\n",
      "Epoch 00010: saving model to model_init_conv2d_lstm_2018-12-3003_00_58.183252/model-00010-0.91154-0.66968-0.88073-0.71000.h5\n",
      "Epoch 11/40\n",
      "42/42 [==============================] - 184s 4s/step - loss: 0.8898 - categorical_accuracy: 0.6866 - val_loss: 0.9001 - val_categorical_accuracy: 0.6800\n",
      "\n",
      "Epoch 00011: saving model to model_init_conv2d_lstm_2018-12-3003_00_58.183252/model-00011-0.88751-0.68627-0.90008-0.68000.h5\n",
      "Epoch 12/40\n",
      "42/42 [==============================] - 183s 4s/step - loss: 0.8537 - categorical_accuracy: 0.7082 - val_loss: 0.8965 - val_categorical_accuracy: 0.6600\n",
      "\n",
      "Epoch 00012: saving model to model_init_conv2d_lstm_2018-12-3003_00_58.183252/model-00012-0.84694-0.71192-0.89649-0.66000.h5\n",
      "Epoch 13/40\n",
      "42/42 [==============================] - 183s 4s/step - loss: 0.7919 - categorical_accuracy: 0.7287 - val_loss: 0.8679 - val_categorical_accuracy: 0.6600\n",
      "\n",
      "Epoch 00013: saving model to model_init_conv2d_lstm_2018-12-3003_00_58.183252/model-00013-0.78785-0.73454-0.86791-0.66000.h5\n",
      "Epoch 14/40\n",
      "42/42 [==============================] - 182s 4s/step - loss: 0.8056 - categorical_accuracy: 0.7153 - val_loss: 0.8074 - val_categorical_accuracy: 0.6900\n",
      "\n",
      "Epoch 00014: saving model to model_init_conv2d_lstm_2018-12-3003_00_58.183252/model-00014-0.79617-0.72097-0.80741-0.69000.h5\n",
      "Epoch 15/40\n",
      "42/42 [==============================] - 186s 4s/step - loss: 0.7351 - categorical_accuracy: 0.7547 - val_loss: 0.6970 - val_categorical_accuracy: 0.7400\n",
      "\n",
      "Epoch 00015: saving model to model_init_conv2d_lstm_2018-12-3003_00_58.183252/model-00015-0.72335-0.75716-0.69702-0.74000.h5\n",
      "Epoch 16/40\n",
      "42/42 [==============================] - 185s 4s/step - loss: 0.7034 - categorical_accuracy: 0.7562 - val_loss: 0.7122 - val_categorical_accuracy: 0.7500\n",
      "\n",
      "Epoch 00016: saving model to model_init_conv2d_lstm_2018-12-3003_00_58.183252/model-00016-0.69774-0.75867-0.71218-0.75000.h5\n",
      "Epoch 17/40\n",
      "42/42 [==============================] - 184s 4s/step - loss: 0.6455 - categorical_accuracy: 0.7871 - val_loss: 0.7106 - val_categorical_accuracy: 0.7300\n",
      "\n",
      "Epoch 00017: saving model to model_init_conv2d_lstm_2018-12-3003_00_58.183252/model-00017-0.63884-0.79186-0.71061-0.73000.h5\n",
      "Epoch 18/40\n",
      "42/42 [==============================] - 181s 4s/step - loss: 0.6607 - categorical_accuracy: 0.7797 - val_loss: 0.7209 - val_categorical_accuracy: 0.7100\n",
      "\n",
      "Epoch 00018: saving model to model_init_conv2d_lstm_2018-12-3003_00_58.183252/model-00018-0.65410-0.78431-0.72094-0.71000.h5\n",
      "Epoch 19/40\n",
      "42/42 [==============================] - 183s 4s/step - loss: 0.6028 - categorical_accuracy: 0.8210 - val_loss: 0.7042 - val_categorical_accuracy: 0.7100\n",
      "\n",
      "Epoch 00019: saving model to model_init_conv2d_lstm_2018-12-3003_00_58.183252/model-00019-0.60156-0.82051-0.70423-0.71000.h5\n",
      "Epoch 20/40\n",
      "42/42 [==============================] - 182s 4s/step - loss: 0.5822 - categorical_accuracy: 0.8102 - val_loss: 0.6978 - val_categorical_accuracy: 0.7400\n",
      "\n",
      "Epoch 00020: saving model to model_init_conv2d_lstm_2018-12-3003_00_58.183252/model-00020-0.58206-0.81146-0.69777-0.74000.h5\n",
      "\n",
      "Epoch 00020: ReduceLROnPlateau reducing learning rate to 0.0019999999552965165.\n",
      "Epoch 21/40\n",
      "42/42 [==============================] - 182s 4s/step - loss: 0.5777 - categorical_accuracy: 0.8228 - val_loss: 0.6836 - val_categorical_accuracy: 0.7400\n",
      "\n",
      "Epoch 00021: saving model to model_init_conv2d_lstm_2018-12-3003_00_58.183252/model-00021-0.56365-0.82805-0.68358-0.74000.h5\n",
      "Epoch 22/40\n",
      "42/42 [==============================] - 187s 4s/step - loss: 0.5766 - categorical_accuracy: 0.8020 - val_loss: 0.6768 - val_categorical_accuracy: 0.7500\n",
      "\n",
      "Epoch 00022: saving model to model_init_conv2d_lstm_2018-12-3003_00_58.183252/model-00022-0.56730-0.80694-0.67677-0.75000.h5\n",
      "Epoch 23/40\n",
      "42/42 [==============================] - 183s 4s/step - loss: 0.5419 - categorical_accuracy: 0.8255 - val_loss: 0.6652 - val_categorical_accuracy: 0.7400\n",
      "\n",
      "Epoch 00023: saving model to model_init_conv2d_lstm_2018-12-3003_00_58.183252/model-00023-0.53729-0.82504-0.66518-0.74000.h5\n",
      "Epoch 24/40\n",
      "42/42 [==============================] - 184s 4s/step - loss: 0.5183 - categorical_accuracy: 0.8269 - val_loss: 0.6505 - val_categorical_accuracy: 0.7600\n",
      "\n",
      "Epoch 00024: saving model to model_init_conv2d_lstm_2018-12-3003_00_58.183252/model-00024-0.50928-0.83409-0.65054-0.76000.h5\n",
      "Epoch 25/40\n",
      "42/42 [==============================] - 182s 4s/step - loss: 0.5604 - categorical_accuracy: 0.8124 - val_loss: 0.6673 - val_categorical_accuracy: 0.7400\n",
      "\n",
      "Epoch 00025: saving model to model_init_conv2d_lstm_2018-12-3003_00_58.183252/model-00025-0.55023-0.81750-0.66727-0.74000.h5\n",
      "Epoch 26/40\n",
      "42/42 [==============================] - 184s 4s/step - loss: 0.5111 - categorical_accuracy: 0.8295 - val_loss: 0.6521 - val_categorical_accuracy: 0.7500\n",
      "\n",
      "Epoch 00026: saving model to model_init_conv2d_lstm_2018-12-3003_00_58.183252/model-00026-0.50554-0.83107-0.65215-0.75000.h5\n",
      "Epoch 27/40\n",
      "42/42 [==============================] - 182s 4s/step - loss: 0.5194 - categorical_accuracy: 0.8336 - val_loss: 0.6280 - val_categorical_accuracy: 0.7700\n",
      "\n",
      "Epoch 00027: saving model to model_init_conv2d_lstm_2018-12-3003_00_58.183252/model-00027-0.51337-0.83710-0.62796-0.77000.h5\n",
      "Epoch 28/40\n",
      "42/42 [==============================] - 183s 4s/step - loss: 0.5247 - categorical_accuracy: 0.8269 - val_loss: 0.6149 - val_categorical_accuracy: 0.7500\n",
      "\n",
      "Epoch 00028: saving model to model_init_conv2d_lstm_2018-12-3003_00_58.183252/model-00028-0.51455-0.83409-0.61486-0.75000.h5\n",
      "Epoch 29/40\n",
      "42/42 [==============================] - 183s 4s/step - loss: 0.4768 - categorical_accuracy: 0.8582 - val_loss: 0.6312 - val_categorical_accuracy: 0.7200\n",
      "\n",
      "Epoch 00029: saving model to model_init_conv2d_lstm_2018-12-3003_00_58.183252/model-00029-0.47188-0.85822-0.63117-0.72000.h5\n",
      "Epoch 30/40\n",
      "42/42 [==============================] - 184s 4s/step - loss: 0.5064 - categorical_accuracy: 0.8366 - val_loss: 0.6101 - val_categorical_accuracy: 0.7700\n",
      "\n",
      "Epoch 00030: saving model to model_init_conv2d_lstm_2018-12-3003_00_58.183252/model-00030-0.49681-0.84012-0.61014-0.77000.h5\n",
      "Epoch 31/40\n",
      "42/42 [==============================] - 182s 4s/step - loss: 0.4890 - categorical_accuracy: 0.8407 - val_loss: 0.6318 - val_categorical_accuracy: 0.7700\n",
      "\n",
      "Epoch 00031: saving model to model_init_conv2d_lstm_2018-12-3003_00_58.183252/model-00031-0.48031-0.84615-0.63180-0.77000.h5\n",
      "Epoch 32/40\n",
      "42/42 [==============================] - 182s 4s/step - loss: 0.4881 - categorical_accuracy: 0.8396 - val_loss: 0.5877 - val_categorical_accuracy: 0.7600\n",
      "\n",
      "Epoch 00032: saving model to model_init_conv2d_lstm_2018-12-3003_00_58.183252/model-00032-0.48088-0.84314-0.58775-0.76000.h5\n",
      "Epoch 33/40\n",
      "42/42 [==============================] - 183s 4s/step - loss: 0.4641 - categorical_accuracy: 0.8440 - val_loss: 0.5891 - val_categorical_accuracy: 0.7800\n",
      "\n",
      "Epoch 00033: saving model to model_init_conv2d_lstm_2018-12-3003_00_58.183252/model-00033-0.45967-0.84766-0.58913-0.78000.h5\n",
      "Epoch 34/40\n",
      "42/42 [==============================] - 182s 4s/step - loss: 0.4653 - categorical_accuracy: 0.8377 - val_loss: 0.5750 - val_categorical_accuracy: 0.7800\n",
      "\n",
      "Epoch 00034: saving model to model_init_conv2d_lstm_2018-12-3003_00_58.183252/model-00034-0.45658-0.84314-0.57497-0.78000.h5\n",
      "Epoch 35/40\n",
      "42/42 [==============================] - 182s 4s/step - loss: 0.4639 - categorical_accuracy: 0.8515 - val_loss: 0.5832 - val_categorical_accuracy: 0.7500\n",
      "\n",
      "Epoch 00035: saving model to model_init_conv2d_lstm_2018-12-3003_00_58.183252/model-00035-0.45278-0.85520-0.58323-0.75000.h5\n",
      "Epoch 36/40\n",
      "42/42 [==============================] - 182s 4s/step - loss: 0.4704 - categorical_accuracy: 0.8604 - val_loss: 0.5808 - val_categorical_accuracy: 0.7800\n",
      "\n",
      "Epoch 00036: saving model to model_init_conv2d_lstm_2018-12-3003_00_58.183252/model-00036-0.45745-0.86425-0.58076-0.78000.h5\n",
      "Epoch 37/40\n",
      "42/42 [==============================] - 184s 4s/step - loss: 0.4448 - categorical_accuracy: 0.8638 - val_loss: 0.5824 - val_categorical_accuracy: 0.7700\n",
      "\n",
      "Epoch 00037: saving model to model_init_conv2d_lstm_2018-12-3003_00_58.183252/model-00037-0.44313-0.86576-0.58243-0.77000.h5\n",
      "Epoch 38/40\n",
      "42/42 [==============================] - 181s 4s/step - loss: 0.4512 - categorical_accuracy: 0.8600 - val_loss: 0.5818 - val_categorical_accuracy: 0.7300\n",
      "\n",
      "Epoch 00038: saving model to model_init_conv2d_lstm_2018-12-3003_00_58.183252/model-00038-0.43876-0.86576-0.58177-0.73000.h5\n",
      "Epoch 39/40\n",
      "42/42 [==============================] - 184s 4s/step - loss: 0.4464 - categorical_accuracy: 0.8556 - val_loss: 0.5736 - val_categorical_accuracy: 0.7600\n",
      "\n",
      "Epoch 00039: saving model to model_init_conv2d_lstm_2018-12-3003_00_58.183252/model-00039-0.43870-0.86124-0.57364-0.76000.h5\n",
      "Epoch 40/40\n",
      "42/42 [==============================] - 181s 4s/step - loss: 0.4355 - categorical_accuracy: 0.8612 - val_loss: 0.5786 - val_categorical_accuracy: 0.7500\n",
      "\n",
      "Epoch 00040: saving model to model_init_conv2d_lstm_2018-12-3003_00_58.183252/model-00040-0.42386-0.86878-0.57864-0.75000.h5\n"
     ]
    }
   ],
   "source": [
    "conv2d_lstm_model = model.fit_generator(train_generator, steps_per_epoch=steps_per_epoch, epochs=num_epochs, verbose=1, \n",
    "                              callbacks=callbacks_list, validation_data=val_generator, \n",
    "                              validation_steps=validation_steps, class_weight=None, workers=1, initial_epoch=0)"
   ]
  },
  {
   "cell_type": "markdown",
   "metadata": {
    "_uuid": "cd70bf55a005aec1bda41445e22aa9699ecb1467"
   },
   "source": [
    "#### Building graphs #####"
   ]
  },
  {
   "cell_type": "code",
   "execution_count": 15,
   "metadata": {
    "_uuid": "2ae64df4b4692b03117c680e4a5bfcddc60bac9a"
   },
   "outputs": [
    {
     "data": {
      "image/png": "[encoded data removed]",
      "text/plain": [
       "<Figure size 432x288 with 1 Axes>"
      ]
     },
     "metadata": {},
     "output_type": "display_data"
    }
   ],
   "source": [
    "import matplotlib.pyplot as plt\n",
    "plt.plot(conv2d_lstm_model.history[\"categorical_accuracy\"])\n",
    "plt.plot(conv2d_lstm_model.history[\"val_categorical_accuracy\"])\n",
    "plt.xlabel(\"EPOCHS\")\n",
    "plt.ylabel(\"Percentage\")\n",
    "plt.title(\"Conv2D+LSTM Model\")\n",
    "plt.legend([\"Train\",\"Test\"],loc=\"lower right\")\n",
    "plt.show()"
   ]
  },
  {
   "cell_type": "code",
   "execution_count": 16,
   "metadata": {
    "_uuid": "c61d4cafd53135c93eeb6f93dbb0478dd837c497"
   },
   "outputs": [
    {
     "data": {
      "image/png": "[encoded data removed]",
      "text/plain": [
       "<Figure size 432x288 with 1 Axes>"
      ]
     },
     "metadata": {},
     "output_type": "display_data"
    }
   ],
   "source": [
    "plt.plot(conv2d_lstm_model.history[\"loss\"])\n",
    "plt.plot(conv2d_lstm_model.history[\"val_loss\"])\n",
    "plt.xlabel(\"EPOCHS\")\n",
    "plt.ylabel(\"LOSS\")\n",
    "plt.ylim(0.0,3.0)\n",
    "plt.title(\"Conv2D+LSTM Model (LOSS)\")\n",
    "plt.legend([\"Train\",\"Testing\"],loc=\"upper right\")\n",
    "plt.show()"
   ]
  },
  {
   "cell_type": "markdown",
   "metadata": {
    "_uuid": "41c6075e3c4481570477aa1b4df1179cc44b3cc1"
   },
   "source": [
    "#### Checking the EPOCH index where maximum validation accuracy was achieved ####"
   ]
  },
  {
   "cell_type": "code",
   "execution_count": 17,
   "metadata": {
    "_uuid": "dfc3947f6d48065e9f19fbc58362c577ec3472cb"
   },
   "outputs": [
    {
     "name": "stdout",
     "output_type": "stream",
     "text": [
      "Maximum Validation Accuracy = 0.780000 achieved at epoch iteration = 33\n"
     ]
    }
   ],
   "source": [
    "print(\"Maximum Validation Accuracy = %f achieved at epoch iteration = %d\" %(np.array(conv2d_lstm_model.history[\"val_categorical_accuracy\"]).max(),np.array(conv2d_lstm_model.history[\"val_categorical_accuracy\"]).argmax()+1))\n",
    "sel_model_idx = np.array(conv2d_lstm_model.history[\"val_categorical_accuracy\"]).argmax() + 1"
   ]
  },
  {
   "cell_type": "markdown",
   "metadata": {
    "_uuid": "06ac8269b87deb1dc5f63051c9982140858b38a4"
   },
   "source": [
    "#### Selecting h5 file for loading model ####"
   ]
  },
  {
   "cell_type": "code",
   "execution_count": 18,
   "metadata": {
    "_uuid": "8640781c7c0c1337b89f6f629627b7585b9e05c4"
   },
   "outputs": [
    {
     "name": "stdout",
     "output_type": "stream",
     "text": [
      "Selected model name : model_init_conv2d_lstm_2018-12-3003_00_58.183252/model-00033-0.45967-0.84766-0.58913-0.78000.h5\n"
     ]
    }
   ],
   "source": [
    "import os\n",
    "import re\n",
    "search_string = \"model-0*\" + str(sel_model_idx) + \"-[a-z0-9\\-\\.]*\"\n",
    "selected_model_name = model_name + list(filter(lambda x: re.search(search_string,x),os.listdir(model_name)))[0]\n",
    "print(\"Selected model name : %s\" %(selected_model_name))\n"
   ]
  },
  {
   "cell_type": "markdown",
   "metadata": {
    "_uuid": "0b2b2dcaa90e7b832974981b3473c6059430dd20"
   },
   "source": [
    "#### Loading model weights from h5 file ####"
   ]
  },
  {
   "cell_type": "code",
   "execution_count": 19,
   "metadata": {
    "_uuid": "3aea2c1fe28d66a5f0a509e760455ab81baa6322"
   },
   "outputs": [],
   "source": [
    "from keras.models import clone_model\n",
    "selected_model = clone_model(model)\n",
    "selected_model.load_weights(selected_model_name)"
   ]
  },
  {
   "cell_type": "markdown",
   "metadata": {
    "_uuid": "b36c824aea945e585d8ef838b64e9810ff95699e"
   },
   "source": [
    "#### Performing prediction on validation data ####"
   ]
  },
  {
   "cell_type": "code",
   "execution_count": 20,
   "metadata": {
    "_uuid": "6c4245eb166db86e24cb4ae1fb6fa5ebcd1b384a"
   },
   "outputs": [
    {
     "name": "stdout",
     "output_type": "stream",
     "text": [
      "Source path =  ../input/data/Project_data/val ; batch size = 16\n"
     ]
    },
    {
     "name": "stderr",
     "output_type": "stream",
     "text": [
      "/opt/conda/lib/python3.6/site-packages/ipykernel_launcher.py:21: DeprecationWarning: `imread` is deprecated!\n",
      "`imread` is deprecated in SciPy 1.0.0, and will be removed in 1.2.0.\n",
      "Use ``imageio.imread`` instead.\n",
      "/opt/conda/lib/python3.6/site-packages/skimage/transform/_warps.py:84: UserWarning: The default mode, 'constant', will be changed to 'reflect' in skimage 0.15.\n",
      "  warn(\"The default mode, 'constant', will be changed to 'reflect' in \"\n"
     ]
    },
    {
     "name": "stdout",
     "output_type": "stream",
     "text": [
      "16/16 [==============================] - 0s 11ms/step\n",
      "16/16 [==============================] - 0s 2ms/step\n",
      "16/16 [==============================] - 0s 3ms/step\n",
      "16/16 [==============================] - 0s 2ms/step\n",
      "16/16 [==============================] - 0s 2ms/step\n",
      "16/16 [==============================] - 0s 2ms/step\n"
     ]
    },
    {
     "name": "stderr",
     "output_type": "stream",
     "text": [
      "/opt/conda/lib/python3.6/site-packages/ipykernel_launcher.py:54: DeprecationWarning: `imread` is deprecated!\n",
      "`imread` is deprecated in SciPy 1.0.0, and will be removed in 1.2.0.\n",
      "Use ``imageio.imread`` instead.\n"
     ]
    },
    {
     "name": "stdout",
     "output_type": "stream",
     "text": [
      "4/4 [==============================] - 0s 8ms/step\n"
     ]
    }
   ],
   "source": [
    "testing_val_generator = generator(val_path,\n",
    "                          val_data, \n",
    "                          batch_size=batch_size,\n",
    "                          transform_size=transform_size,\n",
    "                          frame_selection_list=frame_selection_list,\n",
    "                          process_input_func=preprocess_input_func,\n",
    "                          base_model=base_model)\n",
    "result = None\n",
    "for x in range(validation_steps):\n",
    "    x_val,y_val = next(testing_val_generator)\n",
    "    p_val = selected_model.predict(x_val,batch_size=batch_size,verbose=1)\n",
    "    if x == 0:\n",
    "        result = np.vstack((y_val.argmax(axis=1),p_val.argmax(axis=1)))\n",
    "    else:\n",
    "        result = np.hstack((result,np.vstack((y_val.argmax(axis=1),p_val.argmax(axis=1)))))"
   ]
  },
  {
   "cell_type": "markdown",
   "metadata": {
    "_uuid": "e4ca752a58f572224618e8dc9fdac4a1e4ba068b"
   },
   "source": [
    "#### Consolidating Results ####"
   ]
  },
  {
   "cell_type": "code",
   "execution_count": 21,
   "metadata": {
    "_uuid": "dec1b8b1a4535c8083e4f8011f576d74ddc511c5"
   },
   "outputs": [],
   "source": [
    "result = pd.DataFrame(np.transpose(result),columns=[\"Actual\",\"Predicted\"])"
   ]
  },
  {
   "cell_type": "code",
   "execution_count": 22,
   "metadata": {
    "_uuid": "cb8e609382948087a55dafb6b89f1ffd1a007f9f"
   },
   "outputs": [],
   "source": [
    "from sklearn.metrics import confusion_matrix,classification_report,accuracy_score"
   ]
  },
  {
   "cell_type": "code",
   "execution_count": 23,
   "metadata": {
    "ExecuteTime": {
     "end_time": "2018-12-30T13:59:47.528573Z",
     "start_time": "2018-12-30T13:59:47.507558Z"
    }
   },
   "outputs": [
    {
     "data": {
      "text/html": [
       "<div>\n",
       "<style>\n",
       "    .dataframe thead tr:only-child th {\n",
       "        text-align: right;\n",
       "    }\n",
       "\n",
       "    .dataframe thead th {\n",
       "        text-align: left;\n",
       "    }\n",
       "\n",
       "    .dataframe tbody tr th {\n",
       "        vertical-align: top;\n",
       "    }\n",
       "</style>\n",
       "<table border=\"1\" class=\"dataframe\">\n",
       "  <thead>\n",
       "    <tr style=\"text-align: right;\">\n",
       "      <th></th>\n",
       "      <th>Predicted_Left</th>\n",
       "      <th>Predicted_Right</th>\n",
       "      <th>Predicted_Stop</th>\n",
       "      <th>Predicted_Down</th>\n",
       "      <th>Predicted_Up</th>\n",
       "    </tr>\n",
       "  </thead>\n",
       "  <tbody>\n",
       "    <tr>\n",
       "      <th>Actual_Left</th>\n",
       "      <td>11</td>\n",
       "      <td>5</td>\n",
       "      <td>1</td>\n",
       "      <td>0</td>\n",
       "      <td>1</td>\n",
       "    </tr>\n",
       "    <tr>\n",
       "      <th>Actual_Right</th>\n",
       "      <td>5</td>\n",
       "      <td>17</td>\n",
       "      <td>1</td>\n",
       "      <td>0</td>\n",
       "      <td>0</td>\n",
       "    </tr>\n",
       "    <tr>\n",
       "      <th>Actual_Stop</th>\n",
       "      <td>0</td>\n",
       "      <td>0</td>\n",
       "      <td>19</td>\n",
       "      <td>2</td>\n",
       "      <td>1</td>\n",
       "    </tr>\n",
       "    <tr>\n",
       "      <th>Actual_Down</th>\n",
       "      <td>0</td>\n",
       "      <td>0</td>\n",
       "      <td>0</td>\n",
       "      <td>20</td>\n",
       "      <td>1</td>\n",
       "    </tr>\n",
       "    <tr>\n",
       "      <th>Actual_Up</th>\n",
       "      <td>0</td>\n",
       "      <td>0</td>\n",
       "      <td>4</td>\n",
       "      <td>0</td>\n",
       "      <td>12</td>\n",
       "    </tr>\n",
       "  </tbody>\n",
       "</table>\n",
       "</div>"
      ],
      "text/plain": [
       "              Predicted_Left  Predicted_Right  Predicted_Stop  Predicted_Down  \\\n",
       "Actual_Left               11                5               1               0   \n",
       "Actual_Right               5               17               1               0   \n",
       "Actual_Stop                0                0              19               2   \n",
       "Actual_Down                0                0               0              20   \n",
       "Actual_Up                  0                0               4               0   \n",
       "\n",
       "              Predicted_Up  \n",
       "Actual_Left              1  \n",
       "Actual_Right             0  \n",
       "Actual_Stop              1  \n",
       "Actual_Down              1  \n",
       "Actual_Up               12  "
      ]
     },
     "execution_count": 23,
     "metadata": {},
     "output_type": "execute_result"
    }
   ],
   "source": [
    "cf_np = confusion_matrix(result.Actual,result.Predicted,labels=range(0,5))\n",
    "cf_df = pd.DataFrame(cf_np,columns=[\"Predicted_\" + str(x) for x in [\"Left\",\"Right\",\"Stop\",\"Down\",\"Up\"]],index=[\"Actual_\" + str(x) for x in [\"Left\",\"Right\",\"Stop\",\"Down\",\"Up\"]])\n",
    "cf_df"
   ]
  },
  {
   "cell_type": "code",
   "execution_count": 24,
   "metadata": {
    "_uuid": "641a6e8a3fb2c7ee2fc6db82d31473f809b160fd"
   },
   "outputs": [
    {
     "name": "stdout",
     "output_type": "stream",
     "text": [
      "Cummalative Accuracy Score : 0.790000\n"
     ]
    }
   ],
   "source": [
    "print(\"Cummalative Accuracy Score : %f\" %(accuracy_score(result.Actual,result.Predicted)))"
   ]
  }
 ],
 "metadata": {
  "kernelspec": {
   "display_name": "Python 3",
   "language": "python",
   "name": "python3"
  },
  "language_info": {
   "codemirror_mode": {
    "name": "ipython",
    "version": 3
   },
   "file_extension": ".py",
   "mimetype": "text/x-python",
   "name": "python",
   "nbconvert_exporter": "python",
   "pygments_lexer": "ipython3",
   "version": "3.6.0"
  }
 },
 "nbformat": 4,
 "nbformat_minor": 2
}
